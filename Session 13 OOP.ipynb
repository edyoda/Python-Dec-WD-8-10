{
 "cells": [
  {
   "cell_type": "code",
   "execution_count": null,
   "metadata": {},
   "outputs": [],
   "source": [
    "Objects and Classes"
   ]
  },
  {
   "cell_type": "code",
   "execution_count": null,
   "metadata": {},
   "outputs": [],
   "source": [
    "Paytm:\n",
    "    conact no \n",
    "    email address \n",
    "    kyc details\n",
    "    \n",
    "    make payments \n",
    "    book tickets \n",
    "    add money to wallet \n",
    "    \n",
    "user1\n",
    "user2"
   ]
  },
  {
   "cell_type": "code",
   "execution_count": null,
   "metadata": {},
   "outputs": [],
   "source": [
    "Data members \n",
    "methods "
   ]
  },
  {
   "cell_type": "code",
   "execution_count": null,
   "metadata": {},
   "outputs": [],
   "source": [
    "Emp:\n",
    "    id \n",
    "    name \n",
    "    dept \n",
    "    sal \n",
    "    email\n",
    "    \n",
    "    get_deatils \n",
    "    update_details \n",
    "    incr_sal \n",
    "    \n",
    "    "
   ]
  },
  {
   "cell_type": "code",
   "execution_count": 21,
   "metadata": {},
   "outputs": [
    {
     "name": "stdout",
     "output_type": "stream",
     "text": [
      "101 ABC abc@xyz.com 45000\n",
      "102 PQR pqr@xyz.com 55000\n",
      "HR\n",
      "('101', 'ABC', 'abc@xyz.com', 45000)\n",
      "('102', 'PQR', 'pqr@xyz.com', 55000)\n",
      "63000.0\n",
      "71500.0\n",
      "('101', 'ABC', 'abc@xyz.com', 63000.0)\n",
      "('102', 'PQR', 'pqr@xyz.com', 71500.0)\n"
     ]
    }
   ],
   "source": [
    "class Emp:\n",
    "    def __init__(self,id,name,email,sal):\n",
    "        self.id = id \n",
    "        self.name = name \n",
    "        self.email = email \n",
    "        self.sal = sal\n",
    "        \n",
    "    def set_dept(self,dept_name):\n",
    "        self.dept = dept_name\n",
    "        \n",
    "    def get_details(self):\n",
    "        return self.id,self.name,self.email,self.sal\n",
    "    \n",
    "    def incr_sal(self,per = 30):\n",
    "        self.sal = self.sal + (self.sal * per)/100\n",
    "        return self.sal\n",
    "\n",
    "emp1 = Emp(\"101\",\"ABC\",\"abc@xyz.com\",45000)\n",
    "#Emp(emp1,\"101\",\"ABC\",\"abc@xyz.com\",45000)\n",
    "emp2 = Emp(\"102\",\"PQR\",\"pqr@xyz.com\",55000)\n",
    "emp3 = Emp(\"103\",\"RST\",\"rst@xyz.com\",55000)\n",
    "emp4 = Emp(\"104\",\"QWE\",\"qwe@xyz.com\",55000)\n",
    "\n",
    "\n",
    "print(emp1.id,emp1.name,emp1.email,emp1.sal)\n",
    "print(emp2.id,emp2.name,emp2.email,emp2.sal)\n",
    "\n",
    "emp1.set_dept(\"HR\")\n",
    "print(emp1.dept)\n",
    "# print(emp2.dept)\n",
    "\n",
    "\n",
    "# Emp.set_dept(emp1,\"HR\")\n",
    "emp2.set_dept(\"Admin\")\n",
    "\n",
    "\n",
    "print(emp1.get_details())\n",
    "print(emp2.get_details())\n",
    "\n",
    "print(emp1.incr_sal(40))\n",
    "print(emp2.incr_sal())\n",
    "\n",
    "print(emp1.get_details())\n",
    "print(emp2.get_details())\n"
   ]
  },
  {
   "cell_type": "code",
   "execution_count": 24,
   "metadata": {},
   "outputs": [
    {
     "name": "stdout",
     "output_type": "stream",
     "text": [
      "('101', 'ABC', 'abc@xyz.com', 63000.0)\n",
      "('102', 'PQR', 'pqr@xyz.com', 71500.0)\n",
      "('103', 'RST', 'rst@xyz.com', 55000)\n",
      "('104', 'QWE', 'qwe@xyz.com', 55000)\n"
     ]
    }
   ],
   "source": [
    "emps = [emp1,emp2,emp3,emp4]\n",
    "for emp in emps:\n",
    "    print(emp.get_details())"
   ]
  },
  {
   "cell_type": "code",
   "execution_count": null,
   "metadata": {},
   "outputs": [],
   "source": [
    "Instance variable \n",
    "Class Variable "
   ]
  },
  {
   "cell_type": "code",
   "execution_count": 20,
   "metadata": {},
   "outputs": [
    {
     "name": "stdout",
     "output_type": "stream",
     "text": [
      "<class 'int'>\n"
     ]
    }
   ],
   "source": [
    "num1 = 100\n",
    "print(type(num1))"
   ]
  },
  {
   "cell_type": "code",
   "execution_count": null,
   "metadata": {},
   "outputs": [],
   "source": [
    "class str:\n",
    "    \n",
    "    def index(self,string):\n",
    "        return \n",
    "    \n",
    "    def split()\n",
    "    \n",
    "s = str(\"Python sample string \")\n",
    "print(s.index(\"P\"))"
   ]
  },
  {
   "cell_type": "code",
   "execution_count": 50,
   "metadata": {},
   "outputs": [
    {
     "name": "stdout",
     "output_type": "stream",
     "text": [
      "[<__main__.Emp object at 0x0000025E24B2E5C0>, <__main__.Emp object at 0x0000025E24B2E6A0>, <__main__.Emp object at 0x0000025E24B2E550>, <__main__.Emp object at 0x0000025E24B2E6D8>]\n",
      "58500.0\n",
      "71500.0\n",
      "71500.0\n",
      "71500.0\n"
     ]
    }
   ],
   "source": [
    "class Emp:\n",
    "    count = 0\n",
    "    emps = []\n",
    "    \n",
    "    def __init__(self,id,name,email,sal):\n",
    "        self.__id = id \n",
    "        self.__name = name \n",
    "        self.email = email \n",
    "        self.__sal = sal\n",
    "        Emp.count+=1\n",
    "        Emp.emps.append(self)\n",
    "        \n",
    "    def set_dept(self,dept_name):\n",
    "        self.__dept = dept_name\n",
    "        \n",
    "    def get_details(self):\n",
    "        return self.__id,self.__name,self.email,self.__sal\n",
    "    \n",
    "    def incr_sal(self,per = 30):\n",
    "        self.__sal = self.__sal + (self.__sal * per)/100\n",
    "        return self.__sal\n",
    "    \n",
    "    def get_id(self):\n",
    "        return self.__id\n",
    "    \n",
    "    def get_name(self):\n",
    "        return self.__name\n",
    "        \n",
    "    def set_name(self,new_name):\n",
    "        self.__name = new_name\n",
    "    \n",
    "    \n",
    "emp1 = Emp(\"101\",\"ABC\",\"abc@xyz.com\",45000)\n",
    "#Emp(emp1,\"101\",\"ABC\",\"abc@xyz.com\",45000)\n",
    "emp2 = Emp(\"102\",\"PQR\",\"pqr@xyz.com\",55000)\n",
    "emp3 = Emp(\"103\",\"RST\",\"rst@xyz.com\",55000)\n",
    "emp4 = Emp(\"104\",\"QWE\",\"qwe@xyz.com\",55000)\n",
    "\n",
    "# print(emp1.__dict__)\n",
    "\n",
    "# print(emp1.get_id())\n",
    "# print(emp1.get_name())\n",
    "\n",
    "# emp1.set_name(\"UYT\")\n",
    "# print(emp1.get_name())\n",
    "\n",
    "# print(emp1.id,emp1.name,emp1.email,emp1.sal)\n",
    "# print(emp2.id,emp2.name,emp2.email,emp2.sal)\n",
    "\n",
    "# print(emp1._Emp__id)\n",
    "\n",
    "# print(Emp.count)\n",
    "# print(emp1.count)\n",
    "\n",
    "# Emp.count = 10\n",
    "# print(Emp.count)\n",
    "# print(emp1.count)\n",
    "# print(emp1.__dict__)\n",
    "# # print(Emp.__dict__)\n",
    "# emp1.count = 200\n",
    "# print(emp1.__dict__)\n",
    "# print(Emp.count)\n",
    "# print(emp1.count)\n",
    "\n",
    "# print(Emp.count)\n",
    "\n",
    "print(Emp.emps)\n",
    "for emp in Emp.emps:\n",
    "    print(emp.incr_sal())\n"
   ]
  },
  {
   "cell_type": "code",
   "execution_count": null,
   "metadata": {},
   "outputs": [],
   "source": []
  },
  {
   "cell_type": "code",
   "execution_count": null,
   "metadata": {},
   "outputs": [],
   "source": [
    "Student:\n",
    "    roll_no \n",
    "    name \n",
    "    marks = {\"eng\":85,,,,,}\n",
    "    cal_per()\n",
    "    cal_result() pass/fail \n",
    "\n",
    "    List of all failed students students \n",
    "    List of top 3 students\n",
    "    Topper in every subject\n",
    "    \n",
    "class methods \n",
    "static methods \n",
    "inheritance \n",
    "method overriding \n",
    "\n",
    "    \n",
    "    \n",
    "\n",
    "    "
   ]
  },
  {
   "cell_type": "code",
   "execution_count": 6,
   "metadata": {},
   "outputs": [
    {
     "name": "stdout",
     "output_type": "stream",
     "text": [
      "0\n",
      "4\n",
      "[<__main__.Emp object at 0x000001C6151D2710>, <__main__.Emp object at 0x000001C6151D2748>, <__main__.Emp object at 0x000001C6151D2780>, <__main__.Emp object at 0x000001C6151D27B8>]\n",
      "10 20\n"
     ]
    }
   ],
   "source": [
    "class Emp:\n",
    "    count = 0\n",
    "    emps = []\n",
    "    \n",
    "    @classmethod\n",
    "    def incr_count(cls):\n",
    "        cls.count+=1\n",
    "        \n",
    "    @classmethod\n",
    "    def get_count(cls):\n",
    "        return cls.count\n",
    "    \n",
    "    @classmethod\n",
    "    def add_emp(cls,obj):\n",
    "        cls.emps.append(obj)  \n",
    "        \n",
    "    @classmethod \n",
    "    def get_emps(cls):\n",
    "        return cls.emps\n",
    "    \n",
    "    @staticmethod\n",
    "    def prinVal(num1,num2):\n",
    "        print(num1,num2)\n",
    "        \n",
    "    \n",
    "    \n",
    "    def __init__(self,id,name,email,sal):\n",
    "        self.__id = id \n",
    "        self.__name = name \n",
    "        self.email = email \n",
    "        self.__sal = sal\n",
    "        Emp.incr_count()\n",
    "        Emp.add_emp(self)\n",
    "        \n",
    "    def set_dept(self,dept_name):\n",
    "        self.__dept = dept_name\n",
    "        \n",
    "    def get_details(self):\n",
    "        return self.__id,self.__name,self.email,self.__sal\n",
    "    \n",
    "    def incr_sal(self,per = 30):\n",
    "        self.__sal = self.__sal + (self.__sal * per)/100\n",
    "        return self.__sal\n",
    "    \n",
    "    def get_id(self):\n",
    "        return self.__id\n",
    "    \n",
    "    def get_name(self):\n",
    "        return self.__name\n",
    "        \n",
    "    def set_name(self,new_name):\n",
    "        self.__name = new_name\n",
    "    \n",
    "\n",
    "print(Emp.get_count())\n",
    "    \n",
    "emp1 = Emp(\"101\",\"ABC\",\"abc@xyz.com\",45000)\n",
    "#Emp(emp1,\"101\",\"ABC\",\"abc@xyz.com\",45000)\n",
    "emp2 = Emp(\"102\",\"PQR\",\"pqr@xyz.com\",55000)\n",
    "emp3 = Emp(\"103\",\"RST\",\"rst@xyz.com\",55000)\n",
    "emp4 = Emp(\"104\",\"QWE\",\"qwe@xyz.com\",55000)\n",
    "\n",
    "\n",
    "print(Emp.get_count())\n",
    "print(Emp.get_emps())\n",
    "\n",
    "Emp.prinVal(10,20)"
   ]
  },
  {
   "cell_type": "code",
   "execution_count": 8,
   "metadata": {},
   "outputs": [
    {
     "name": "stdout",
     "output_type": "stream",
     "text": [
      "{10: None, 20: None, 30: None, 40: None, 50: None}\n"
     ]
    }
   ],
   "source": [
    "l = [10,20,30,40,50]\n",
    "d = dict.fromkeys(l)\n",
    "print(d)"
   ]
  },
  {
   "cell_type": "code",
   "execution_count": 9,
   "metadata": {},
   "outputs": [
    {
     "name": "stdout",
     "output_type": "stream",
     "text": [
      "<class 'str'>\n"
     ]
    }
   ],
   "source": [
    "s = \"Python\"\n",
    "print(type(s))"
   ]
  },
  {
   "cell_type": "code",
   "execution_count": null,
   "metadata": {},
   "outputs": [],
   "source": [
    "User:\n",
    "    id\n",
    "    username\n",
    "    email \n",
    "    password \n",
    "    firstname \n",
    "    lastname \n",
    "    \n",
    "Profile :\n",
    "    contact_number \n",
    "    address \n",
    "    linkedin_profile\n",
    "    github_profile \n",
    "    "
   ]
  },
  {
   "cell_type": "code",
   "execution_count": 22,
   "metadata": {
    "scrolled": false
   },
   "outputs": [
    {
     "name": "stdout",
     "output_type": "stream",
     "text": [
      "Help on class Profile in module __main__:\n",
      "\n",
      "class Profile(Admin, User)\n",
      " |  Method resolution order:\n",
      " |      Profile\n",
      " |      Admin\n",
      " |      User\n",
      " |      builtins.object\n",
      " |  \n",
      " |  Methods defined here:\n",
      " |  \n",
      " |  __init__(self, id, username, password, email, f_name, l_name, contact, linkedin)\n",
      " |      Initialize self.  See help(type(self)) for accurate signature.\n",
      " |  \n",
      " |  get_details(self)\n",
      " |  \n",
      " |  get_name(self)\n",
      " |  \n",
      " |  ----------------------------------------------------------------------\n",
      " |  Data descriptors inherited from Admin:\n",
      " |  \n",
      " |  __dict__\n",
      " |      dictionary for instance variables (if defined)\n",
      " |  \n",
      " |  __weakref__\n",
      " |      list of weak references to the object (if defined)\n",
      "\n",
      "('STtament form admin class', '9123456789', 'www.linkedin.com/abc')\n"
     ]
    }
   ],
   "source": [
    "class User:\n",
    "    def __init__(self,id,username,password,email,f_name,l_name):\n",
    "        self.id = id\n",
    "        self.username = username\n",
    "        self.password = password\n",
    "        self.email =  email\n",
    "        self._f_name = f_name\n",
    "        self._l_name = l_name \n",
    "        \n",
    "    def get_details(self):\n",
    "        return self.username,self.email,self._f_name,self._l_name\n",
    "\n",
    "class Admin:\n",
    "    def get_details(self):\n",
    "        return \"STtament form admin class\"\n",
    "    \n",
    "    \n",
    "    \n",
    "class Profile(Admin,User):\n",
    "    def __init__(self,id,username,password,email,f_name,l_name,contact,linkedin):\n",
    "        super().__init__(id,username,password,email,f_name,l_name)\n",
    "        self.contact =  contact\n",
    "        self.linkedin = linkedin\n",
    "        \n",
    "    def get_name(self):\n",
    "        return \"{} {}\".format(self._f_name,self._l_name)\n",
    "    \n",
    "    def get_details(self):\n",
    "        t =  super().get_details()\n",
    "        return t,self.contact,self.linkedin\n",
    "\n",
    "user1 = Profile(1,\"abc\",\"abc@123\",\"abc@xyz.com\",\"ab\",\"c\",\"9123456789\",\"www.linkedin.com/abc\")\n",
    "help(Profile)\n",
    "# print(user1.__dict__)\n",
    "# print(user1.get_name())\n",
    "\n",
    "print(user1.get_details())\n",
    "\n",
    "# depth first left to right to algo for MRO\n"
   ]
  },
  {
   "cell_type": "code",
   "execution_count": null,
   "metadata": {},
   "outputs": [],
   "source": [
    "method overloading\n",
    "    same name but different number of parameter \n",
    "    same name sane number of parameter but datatype is diff \n",
    "    \n",
    "add(int num1,int num2,str val3):\n",
    "    c = num1 + num2\n",
    "    \n",
    "add(str val1,str val2):\n",
    "    c = val1 + val2\n",
    "    \n",
    "    \n",
    "add(*args)\n",
    "add(10,10)\n",
    "add(10,\"str\")\n",
    "add(\"str\",\"str\")\n"
   ]
  },
  {
   "cell_type": "code",
   "execution_count": null,
   "metadata": {},
   "outputs": [],
   "source": [
    "Courses \n",
    "    id \n",
    "    course_title \n",
    "    couse_category \n",
    "    course_author\n",
    "\n",
    "Tutorials \n",
    "    id \n",
    "    tutoril_title \n",
    "    tutorial_content \n",
    "    course = obj course \n",
    "    \n",
    "\n",
    "1 ML all the tutorials of ML \n",
    "2 ABC all the tutorial for author ABC \n",
    "    "
   ]
  },
  {
   "cell_type": "code",
   "execution_count": null,
   "metadata": {},
   "outputs": [],
   "source": [
    "Encapsulation,abstarction,data hiding, __private,_prot, _ClassName__Variable name ,_variable  \n",
    "polymorphism mothod overloading and overiding\n",
    "inheritance MRO- depth first left to right  "
   ]
  },
  {
   "cell_type": "code",
   "execution_count": null,
   "metadata": {},
   "outputs": [],
   "source": []
  }
 ],
 "metadata": {
  "kernelspec": {
   "display_name": "Python 3",
   "language": "python",
   "name": "python3"
  },
  "language_info": {
   "codemirror_mode": {
    "name": "ipython",
    "version": 3
   },
   "file_extension": ".py",
   "mimetype": "text/x-python",
   "name": "python",
   "nbconvert_exporter": "python",
   "pygments_lexer": "ipython3",
   "version": "3.6.5"
  }
 },
 "nbformat": 4,
 "nbformat_minor": 2
}
