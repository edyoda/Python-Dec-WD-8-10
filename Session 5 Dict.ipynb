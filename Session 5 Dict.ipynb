{
 "cells": [
  {
   "cell_type": "code",
   "execution_count": null,
   "metadata": {},
   "outputs": [],
   "source": [
    "d = {'name':\"ABC\",\"email\":\"abc@gmail.com\"}\n",
    "\n",
    "- mutable add update and delete \n",
    "- unordered not support indexing and slicing \n",
    "- all the keys should be unique \n",
    "- all the keys should be immutable => tuple , int, str,float \n"
   ]
  },
  {
   "cell_type": "code",
   "execution_count": null,
   "metadata": {},
   "outputs": [],
   "source": [
    "dict => JSON => no sql documenets "
   ]
  },
  {
   "cell_type": "code",
   "execution_count": null,
   "metadata": {},
   "outputs": [],
   "source": [
    "MVT"
   ]
  },
  {
   "cell_type": "code",
   "execution_count": null,
   "metadata": {},
   "outputs": [],
   "source": [
    "hash table \n",
    "\n",
    "index key ref of value\n",
    "\n",
    "hash(key) => hash index "
   ]
  },
  {
   "cell_type": "code",
   "execution_count": null,
   "metadata": {},
   "outputs": [],
   "source": [
    "hash(key) => ref \n",
    "o(1)"
   ]
  },
  {
   "cell_type": "code",
   "execution_count": 31,
   "metadata": {},
   "outputs": [
    {
     "name": "stdout",
     "output_type": "stream",
     "text": [
      "ABC\n"
     ]
    }
   ],
   "source": [
    "d = {\"name\":\"ABC\",\"email\":\"abc@gmail.com\",\"contact\":\"7123456789\"}\n",
    "print(d[\"name\"])"
   ]
  },
  {
   "cell_type": "code",
   "execution_count": 33,
   "metadata": {},
   "outputs": [
    {
     "name": "stdout",
     "output_type": "stream",
     "text": [
      "ABC\n",
      "{'name': 'ABC', 'email': 'abc@gmail.com', 'contact': '7123456789'}\n"
     ]
    }
   ],
   "source": [
    "print(d.setdefault(\"name\",\"PQR\"))\n",
    "print(d)"
   ]
  },
  {
   "cell_type": "code",
   "execution_count": 10,
   "metadata": {},
   "outputs": [
    {
     "name": "stdout",
     "output_type": "stream",
     "text": [
      "ABC\n"
     ]
    }
   ],
   "source": [
    "print(d.get(\"name\",-1))"
   ]
  },
  {
   "cell_type": "code",
   "execution_count": 21,
   "metadata": {},
   "outputs": [
    {
     "name": "stdout",
     "output_type": "stream",
     "text": [
      "20\n",
      "{'name': 'ABC', 'email': 'abc@gmail.com', 'contact': '7123456789', 'age': 20}\n"
     ]
    }
   ],
   "source": [
    "print(d.setdefault(\"age\",20))\n",
    "print(d)"
   ]
  },
  {
   "cell_type": "code",
   "execution_count": 24,
   "metadata": {},
   "outputs": [
    {
     "name": "stdout",
     "output_type": "stream",
     "text": [
      "{'name': 'ABC', 'email': 'abc@gmail.com', 'contact': '7123456789', 'age': 20, 'dept': 'HR'}\n",
      "{'name': 'ABC', 'email': 'abc@gmail.com', 'contact': '7123456789', 'age': 20, 'dept': ['Admin', 'HR']}\n"
     ]
    }
   ],
   "source": [
    "d['dept'] = \"HR\"\n",
    "print(d)\n",
    "\n",
    "d['dept'] = [\"Admin\",\"HR\"]\n",
    "print(d)"
   ]
  },
  {
   "cell_type": "code",
   "execution_count": null,
   "metadata": {},
   "outputs": [],
   "source": [
    "1:1,2:4,3:9......10:100"
   ]
  },
  {
   "cell_type": "code",
   "execution_count": 27,
   "metadata": {},
   "outputs": [
    {
     "name": "stdout",
     "output_type": "stream",
     "text": [
      "{1: 1, 2: 4, 3: 9, 4: 16, 5: 25, 6: 36, 7: 49, 8: 64, 9: 81, 10: 100}\n"
     ]
    }
   ],
   "source": [
    "d1 = {}\n",
    "for key in range(1,11):\n",
    "#     d1.setdefault(key,key * key)\n",
    "    d1[key] = key * key\n",
    "print(d1)"
   ]
  },
  {
   "cell_type": "code",
   "execution_count": null,
   "metadata": {},
   "outputs": [],
   "source": [
    "a:97,b:98.....z:122\n",
    "ord \n",
    "chr"
   ]
  },
  {
   "cell_type": "code",
   "execution_count": 29,
   "metadata": {},
   "outputs": [
    {
     "name": "stdout",
     "output_type": "stream",
     "text": [
      "{'a': 97, 'b': 98, 'c': 99, 'd': 100, 'e': 101, 'f': 102, 'g': 103, 'h': 104, 'i': 105, 'j': 106, 'k': 107, 'l': 108, 'm': 109, 'n': 110, 'o': 111, 'p': 112, 'q': 113, 'r': 114, 's': 115, 't': 116, 'u': 117, 'v': 118, 'w': 119, 'x': 120, 'y': 121, 'z': 122}\n",
      "116\n"
     ]
    }
   ],
   "source": [
    "d2 = {}\n",
    "for value in range(97,123):\n",
    "    d2.setdefault(chr(value),value)\n",
    "print(d2)\n",
    "print(d2.get(\"t\"))"
   ]
  },
  {
   "cell_type": "code",
   "execution_count": null,
   "metadata": {},
   "outputs": [],
   "source": [
    "d[key] = value \n",
    "d.setdefault(key,value)\n",
    "\n",
    "d[key]\n",
    "d.get(key)\n",
    "\n",
    "d[key] = new_value "
   ]
  },
  {
   "cell_type": "code",
   "execution_count": 35,
   "metadata": {},
   "outputs": [
    {
     "name": "stdout",
     "output_type": "stream",
     "text": [
      "[(10, 1), (20, 2), (30, 3), (40, 4), (50, 5)]\n"
     ]
    }
   ],
   "source": [
    "l1 = [10,20,30,40,50,60,70]\n",
    "l2 = [1,2,3,4,5]\n",
    "l3 = list(zip(l1,l2))\n",
    "print(l3)"
   ]
  },
  {
   "cell_type": "code",
   "execution_count": null,
   "metadata": {},
   "outputs": [],
   "source": [
    "l = [14,45,20,10,36,78,52,41,78]\n",
    "d ={(1,10):0,(11,20):0,(21:30):0........(91,100):0}\n",
    "\n",
    "range()\n",
    "zip()\n",
    "\n",
    "1,11,21,31,......91\n",
    "10,20,30.........100\n"
   ]
  },
  {
   "cell_type": "code",
   "execution_count": 48,
   "metadata": {},
   "outputs": [
    {
     "name": "stdout",
     "output_type": "stream",
     "text": [
      "{(1, 10): 1, (11, 20): 2, (21, 30): 0, (31, 40): 1, (41, 50): 2, (51, 60): 1, (61, 70): 0, (71, 80): 2, (81, 90): 0, (91, 100): 0}\n"
     ]
    }
   ],
   "source": [
    "l = [14,45,20,10,36,78,52,41,78]\n",
    "d3 = {}\n",
    "\n",
    "for key in zip(range(1,92,10),range(10,101,10)):\n",
    "    d3.setdefault(key,0)\n",
    "# print(d3)\n",
    "\n",
    "for num in l:\n",
    "    for key in d3:\n",
    "#         print(key)\n",
    "        if num >= key[0] and num <= key[1]:\n",
    "            d3[key] +=1\n",
    "    \n",
    "print(d3)"
   ]
  },
  {
   "cell_type": "code",
   "execution_count": 57,
   "metadata": {},
   "outputs": [
    {
     "name": "stdout",
     "output_type": "stream",
     "text": [
      "dict_keys(['name', 'email', 'contact'])\n",
      "dict_values(['ABC', 'abc@gmail.com', '7123456789'])\n",
      "dict_items([('name', 'ABC'), ('email', 'abc@gmail.com'), ('contact', '7123456789')])\n"
     ]
    }
   ],
   "source": [
    "d = {\"name\":\"ABC\",\"email\":\"abc@gmail.com\",\"contact\":\"7123456789\"}\n",
    "\n",
    "# for key,value in d.items():\n",
    "#     print(key,value)\n",
    "print(d.keys())\n",
    "print(d.values())\n",
    "print(d.items())"
   ]
  },
  {
   "cell_type": "code",
   "execution_count": 63,
   "metadata": {},
   "outputs": [
    {
     "name": "stdout",
     "output_type": "stream",
     "text": [
      "['5', '4', '4', '5', '2']\n",
      "['4', '4', '4', '4', '4']\n",
      "['4', '5', '4', '3', '2']\n",
      "['2', '3', '3', '3', '4']\n",
      "{'ABC': 4.0, 'PQR': 4.0, 'XYZ': 3.6, 'POI': 3.0}\n"
     ]
    }
   ],
   "source": [
    "d1 = {\"ABC\":\"5,4,4,5,2\",\"PQR\":\"4,4,4,4,4\",\"XYZ\":\"4,5,4,3,2\",\"POI\":\"2,3,3,3,4\"}\n",
    "# d2 = {\"ABC\":4.2,\"PQR\":4.2,\"XYZ\":3.2}\n",
    "d2 = {}\n",
    "for key,value in d1.items():\n",
    "    l = value.split(\",\")\n",
    "    print(l)\n",
    "    \n",
    "    sum =0\n",
    "    for value in l:\n",
    "        sum = sum + int(value)\n",
    "#     print(sum/5)\n",
    "    \n",
    "    d2.setdefault(key,sum / 5)\n",
    "        \n",
    "print(d2)\n"
   ]
  },
  {
   "cell_type": "code",
   "execution_count": null,
   "metadata": {},
   "outputs": [],
   "source": [
    "pop\n",
    "popitem \n",
    "clear \n",
    "del "
   ]
  },
  {
   "cell_type": "code",
   "execution_count": 70,
   "metadata": {},
   "outputs": [
    {
     "name": "stdout",
     "output_type": "stream",
     "text": [
      "{'PQR': '4,4,4,4,4', 'XYZ': '4,5,4,3,2', 'POI': '2,3,3,3,4'} 5,4,4,5,2\n",
      "{'PQR': '4,4,4,4,4', 'XYZ': '4,5,4,3,2'}\n",
      "{}\n"
     ]
    },
    {
     "ename": "NameError",
     "evalue": "name 'd1' is not defined",
     "output_type": "error",
     "traceback": [
      "\u001b[1;31m---------------------------------------------------------------------------\u001b[0m",
      "\u001b[1;31mNameError\u001b[0m                                 Traceback (most recent call last)",
      "\u001b[1;32m<ipython-input-70-683788bc0711>\u001b[0m in \u001b[0;36m<module>\u001b[1;34m()\u001b[0m\n\u001b[0;32m     10\u001b[0m \u001b[1;33m\u001b[0m\u001b[0m\n\u001b[0;32m     11\u001b[0m \u001b[1;32mdel\u001b[0m \u001b[0md1\u001b[0m\u001b[1;33m\u001b[0m\u001b[0m\n\u001b[1;32m---> 12\u001b[1;33m \u001b[0mprint\u001b[0m\u001b[1;33m(\u001b[0m\u001b[0md1\u001b[0m\u001b[1;33m)\u001b[0m\u001b[1;33m\u001b[0m\u001b[0m\n\u001b[0m",
      "\u001b[1;31mNameError\u001b[0m: name 'd1' is not defined"
     ]
    }
   ],
   "source": [
    "d1 = {\"ABC\":\"5,4,4,5,2\",\"PQR\":\"4,4,4,4,4\",\"XYZ\":\"4,5,4,3,2\",\"POI\":\"2,3,3,3,4\"}\n",
    "r = d1.pop(\"ABC\")\n",
    "print(d1,r)\n",
    "\n",
    "r = d1.popitem()\n",
    "print(d1)\n",
    "\n",
    "d1.clear()\n",
    "print(d1)\n",
    "\n",
    "del d1\n",
    "print(d1)"
   ]
  },
  {
   "cell_type": "code",
   "execution_count": 71,
   "metadata": {},
   "outputs": [
    {
     "name": "stdout",
     "output_type": "stream",
     "text": [
      "{1: 10, 2: 20, 3: 30, 4: 40, 5: 50}\n"
     ]
    }
   ],
   "source": [
    "l1 = [1,2,3,4,5]\n",
    "l2 = [10,20,30,40,50]\n",
    "d1 = dict(zip(l1,l2))\n",
    "print(d1)"
   ]
  },
  {
   "cell_type": "code",
   "execution_count": 74,
   "metadata": {},
   "outputs": [
    {
     "name": "stdout",
     "output_type": "stream",
     "text": [
      "{1: 25, 2: 25, 3: 25, 4: 25, 5: 25}\n"
     ]
    }
   ],
   "source": [
    "l = [1,2,3,4,5]\n",
    "d2 = dict.fromkeys(l,25)\n",
    "print(d2)"
   ]
  }
 ],
 "metadata": {
  "kernelspec": {
   "display_name": "Python 3",
   "language": "python",
   "name": "python3"
  },
  "language_info": {
   "codemirror_mode": {
    "name": "ipython",
    "version": 3
   },
   "file_extension": ".py",
   "mimetype": "text/x-python",
   "name": "python",
   "nbconvert_exporter": "python",
   "pygments_lexer": "ipython3",
   "version": "3.6.5"
  }
 },
 "nbformat": 4,
 "nbformat_minor": 2
}
