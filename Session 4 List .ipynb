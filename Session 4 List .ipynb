{
 "cells": [
  {
   "cell_type": "code",
   "execution_count": null,
   "metadata": {},
   "outputs": [],
   "source": [
    "List = [10,20,30,40,\"Python\",[100,200,300]]\n",
    "     => mutable = add update and delete \n",
    "     => ordered = indexing and slicing \n",
    "        "
   ]
  },
  {
   "cell_type": "code",
   "execution_count": 8,
   "metadata": {},
   "outputs": [
    {
     "name": "stdout",
     "output_type": "stream",
     "text": [
      "2000\n",
      "[3000, 2000]\n"
     ]
    }
   ],
   "source": [
    "l = [10,20,30,40,50,60,[70,80,90,[1000,2000,3000]]]\n",
    "print(l[-1][-1][1])\n",
    "print(l[-1][-1][2:0:-1])"
   ]
  },
  {
   "cell_type": "code",
   "execution_count": null,
   "metadata": {},
   "outputs": [],
   "source": [
    "Add methods :\n",
    "    append \n",
    "    extend \n",
    "    insert "
   ]
  },
  {
   "cell_type": "code",
   "execution_count": 20,
   "metadata": {},
   "outputs": [
    {
     "name": "stdout",
     "output_type": "stream",
     "text": [
      "[100, 200, 300, 400, 500, [600, 700]]\n"
     ]
    }
   ],
   "source": [
    "l = [100,200,300,400,500]\n",
    "l.append([600,700])\n",
    "\n",
    "print(l)\n",
    "\n",
    "\n"
   ]
  },
  {
   "cell_type": "code",
   "execution_count": 16,
   "metadata": {},
   "outputs": [
    {
     "name": "stdout",
     "output_type": "stream",
     "text": [
      "[100, 200, 300, 400, 500, 1000]\n"
     ]
    }
   ],
   "source": [
    "l = [100,200,300,400,500]\n",
    "l2 = [1,2,3,4,5]\n",
    "\n",
    "l.extend([1000])\n",
    "print(l)"
   ]
  },
  {
   "cell_type": "code",
   "execution_count": 23,
   "metadata": {},
   "outputs": [
    {
     "name": "stdout",
     "output_type": "stream",
     "text": [
      "[100, 200, [1000, 2000, 3000], 300, 400, 500, 600]\n"
     ]
    }
   ],
   "source": [
    "l = [100,200,300,400,500,600]\n",
    "l.insert(2,[1000,2000,3000])\n",
    "print(l)"
   ]
  },
  {
   "cell_type": "code",
   "execution_count": 24,
   "metadata": {},
   "outputs": [
    {
     "name": "stdout",
     "output_type": "stream",
     "text": [
      "[1, 2, 3, 4, 5, 6, 7, 8, 9]\n"
     ]
    }
   ],
   "source": [
    "l1 = [[1,2,3],[4,5,6],[7,8,9]]\n",
    "\n",
    "# l2 = [1,2,3,4,5,6,7,8,9]\n",
    "# l3 =[[1,4,7],[2,5,8],[3,6,9]]\n",
    "l2 = []\n",
    "for value in l1:\n",
    "    l2.extend(value)\n",
    "print(l2)\n",
    "\n"
   ]
  },
  {
   "cell_type": "code",
   "execution_count": null,
   "metadata": {},
   "outputs": [],
   "source": [
    "1 2 3    0    1 \n",
    "4 5 6    0    4\n",
    "7 8 9    0    7\n",
    " \n",
    "1 2 3    1    2\n",
    "4 5 6    1    5\n",
    "7 8 9    1    8\n",
    "\n",
    "1 2 3    2    3\n",
    "4 5 6    2    6\n",
    "7 8 9    2    9"
   ]
  },
  {
   "cell_type": "code",
   "execution_count": 31,
   "metadata": {},
   "outputs": [
    {
     "name": "stdout",
     "output_type": "stream",
     "text": [
      "[[1, 4, 7], [2, 5, 8], [3, 6, 9]]\n"
     ]
    }
   ],
   "source": [
    "l1 = [[1,2,3],[4,5,6],[7,8,9]]\n",
    "l2 = []\n",
    "\n",
    "for index in range(len(l1)):\n",
    "    l3 = []\n",
    "    for value in l1:\n",
    "        l3.append(value[index])\n",
    "    l2.append(l3)    \n",
    "print(l2)"
   ]
  },
  {
   "cell_type": "code",
   "execution_count": null,
   "metadata": {},
   "outputs": [],
   "source": [
    "l1 = [[1,2,3],[4,5,6],[7,8,9],[10,11,12]]\n",
    "l2 = [[100,200,300],[400,500,600],[700,800,900],[1000,1100,1200]]\n",
    "\n",
    "l3 = [[101,202,303],[404,505,606],[707,808,909],[1010.1111.1212]]"
   ]
  },
  {
   "cell_type": "code",
   "execution_count": null,
   "metadata": {},
   "outputs": [],
   "source": [
    "1   2   3     100 200 300                   \n",
    "4   5   6     400 500 600\n",
    "7   8   9     700 800 900\n",
    "10  11  12    1000 1100 1200\n",
    "\n"
   ]
  },
  {
   "cell_type": "code",
   "execution_count": 36,
   "metadata": {},
   "outputs": [
    {
     "name": "stdout",
     "output_type": "stream",
     "text": [
      "[[101, 202, 303], [404, 505, 606], [707, 808, 909], [1010, 1111, 1212]]\n"
     ]
    }
   ],
   "source": [
    "l1 = [[1,2,3],[4,5,6],[7,8,9],[10,11,12]]\n",
    "l2 = [[100,200,300],[400,500,600],[700,800,900],[1000,1100,1200]]\n",
    "l4 = []\n",
    "for row in range(len(l1)):\n",
    "    l3 = []\n",
    "    for col in range(len(l1[0])):\n",
    "        l3.append(l1[row][col] + l2[row][col])\n",
    "    l4.append(l3)\n",
    "        \n",
    "print(l4)"
   ]
  },
  {
   "cell_type": "code",
   "execution_count": 40,
   "metadata": {},
   "outputs": [
    {
     "name": "stdout",
     "output_type": "stream",
     "text": [
      "97 122\n",
      "a z\n"
     ]
    }
   ],
   "source": [
    "print(ord('a'),ord('z'))\n",
    "print(chr(97),chr(122))"
   ]
  },
  {
   "cell_type": "code",
   "execution_count": 41,
   "metadata": {},
   "outputs": [
    {
     "name": "stdout",
     "output_type": "stream",
     "text": [
      "['a', 'b', 'c', 'd', 'e', 'f', 'g', 'h', 'i', 'j', 'k', 'l', 'm']\n"
     ]
    }
   ],
   "source": [
    "start = \"a\"\n",
    "end = \"m\"\n",
    "l2 = []\n",
    "for value in range(ord('a'),ord('m')+1):\n",
    "    l2.append(chr(value))\n",
    "print(l2)\n"
   ]
  },
  {
   "cell_type": "code",
   "execution_count": null,
   "metadata": {},
   "outputs": [],
   "source": [
    "append =:Python => \"Python\"\n",
    "extend =: Python P,Y ,t,h,o,n\n",
    "insert"
   ]
  },
  {
   "cell_type": "code",
   "execution_count": 42,
   "metadata": {},
   "outputs": [
    {
     "name": "stdout",
     "output_type": "stream",
     "text": [
      "[10, 20, 300, 40, 50, 60]\n"
     ]
    }
   ],
   "source": [
    "l = [10,20,30,40,50,60]\n",
    "l[2] = 300\n",
    "print(l)"
   ]
  },
  {
   "cell_type": "code",
   "execution_count": null,
   "metadata": {},
   "outputs": [],
   "source": [
    "pop \n",
    "remove \n",
    "clear \n",
    "del "
   ]
  },
  {
   "cell_type": "code",
   "execution_count": 53,
   "metadata": {},
   "outputs": [
    {
     "name": "stdout",
     "output_type": "stream",
     "text": [
      "[10, 20, 20, 40, 40, 50, 60] 30\n",
      "[10, 20, 20, 40, 50, 60]\n",
      "[110]\n"
     ]
    },
    {
     "ename": "NameError",
     "evalue": "name 'l' is not defined",
     "output_type": "error",
     "traceback": [
      "\u001b[1;31m---------------------------------------------------------------------------\u001b[0m",
      "\u001b[1;31mNameError\u001b[0m                                 Traceback (most recent call last)",
      "\u001b[1;32m<ipython-input-53-09cce3e98fef>\u001b[0m in \u001b[0;36m<module>\u001b[1;34m()\u001b[0m\n\u001b[0;32m     11\u001b[0m \u001b[1;33m\u001b[0m\u001b[0m\n\u001b[0;32m     12\u001b[0m \u001b[1;32mdel\u001b[0m \u001b[0ml\u001b[0m\u001b[1;33m\u001b[0m\u001b[0m\n\u001b[1;32m---> 13\u001b[1;33m \u001b[0mprint\u001b[0m\u001b[1;33m(\u001b[0m\u001b[0ml\u001b[0m\u001b[1;33m)\u001b[0m\u001b[1;33m\u001b[0m\u001b[0m\n\u001b[0m",
      "\u001b[1;31mNameError\u001b[0m: name 'l' is not defined"
     ]
    }
   ],
   "source": [
    "l = [10,20,30,20,40,40,50,60]\n",
    "r = l.pop(2)\n",
    "print(l,r)\n",
    "\n",
    "l.remove(40)\n",
    "print(l)\n",
    "\n",
    "l.clear()\n",
    "l.append(110)\n",
    "print(l)\n",
    "\n",
    "del l\n",
    "print(l)"
   ]
  },
  {
   "cell_type": "code",
   "execution_count": 59,
   "metadata": {},
   "outputs": [
    {
     "name": "stdout",
     "output_type": "stream",
     "text": [
      "2175461046664 2175460775880\n",
      "[10, 20, 30, 40]\n"
     ]
    }
   ],
   "source": [
    "l1 = [10,20,30,40]\n",
    "l2 = l1.copy()\n",
    "\n",
    "print(id(l1),id(l2))\n",
    "l1.append(50)\n",
    "print(l2)"
   ]
  },
  {
   "cell_type": "code",
   "execution_count": 65,
   "metadata": {},
   "outputs": [
    {
     "name": "stdout",
     "output_type": "stream",
     "text": [
      "[10, 20, 30, 40, 50, 1, 2, 3, 4, 5, 6]\n",
      "[10, 20, 30, 40, 50, 10, 20, 30, 40, 50]\n",
      "['__abs__', '__add__', '__and__', '__bool__', '__ceil__', '__class__', '__delattr__', '__dir__', '__divmod__', '__doc__', '__eq__', '__float__', '__floor__', '__floordiv__', '__format__', '__ge__', '__getattribute__', '__getnewargs__', '__gt__', '__hash__', '__index__', '__init__', '__init_subclass__', '__int__', '__invert__', '__le__', '__lshift__', '__lt__', '__mod__', '__mul__', '__ne__', '__neg__', '__new__', '__or__', '__pos__', '__pow__', '__radd__', '__rand__', '__rdivmod__', '__reduce__', '__reduce_ex__', '__repr__', '__rfloordiv__', '__rlshift__', '__rmod__', '__rmul__', '__ror__', '__round__', '__rpow__', '__rrshift__', '__rshift__', '__rsub__', '__rtruediv__', '__rxor__', '__setattr__', '__sizeof__', '__str__', '__sub__', '__subclasshook__', '__truediv__', '__trunc__', '__xor__', 'bit_length', 'conjugate', 'denominator', 'from_bytes', 'imag', 'numerator', 'real', 'to_bytes']\n"
     ]
    }
   ],
   "source": [
    "l1 = [10,20,30,40,50]\n",
    "l2 = [1,2,3,4,5,6]\n",
    "l3 = l1 + l2\n",
    "print(l3)\n",
    "\n",
    "print(l1 * 2)\n",
    "print(dir(int))"
   ]
  },
  {
   "cell_type": "code",
   "execution_count": 67,
   "metadata": {},
   "outputs": [
    {
     "name": "stdout",
     "output_type": "stream",
     "text": [
      "[100, 99, 88, 78, 56, 45, 24, 10]\n"
     ]
    }
   ],
   "source": [
    "l1 = [45,10,24,56,78,88,99,100]\n",
    "l1.sort(reverse= True)\n",
    "print(l1)"
   ]
  },
  {
   "cell_type": "code",
   "execution_count": 71,
   "metadata": {},
   "outputs": [
    {
     "name": "stdout",
     "output_type": "stream",
     "text": [
      "3\n",
      "3\n"
     ]
    }
   ],
   "source": [
    "l1 = [100,200,10,30,10,10,20,25,56,45]\n",
    "print(l1.index(30))\n",
    "print(l1.count(10))"
   ]
  },
  {
   "cell_type": "code",
   "execution_count": 75,
   "metadata": {},
   "outputs": [
    {
     "name": "stdout",
     "output_type": "stream",
     "text": [
      "[10, 20, 35, 45, 10, 10, 20, 35, 45, 85, 95, 100, 200, 300, 40, 10, 12, 10, 45, 85, 95]\n",
      "[10, 10, 10, 10, 10, 12, 20, 20, 35, 35, 40, 45, 45, 45, 85, 85, 95, 95, 100, 200, 300]\n",
      "[10, 10, 12, 20, 35, 40, 45, 85, 95, 100, 200, 300]\n"
     ]
    }
   ],
   "source": [
    "l1 = [10,20,35,45,10,10,20,35,45,85,95]\n",
    "l2 = [100,200,300,40,10,12,10,45,85,95]\n",
    "# \n",
    "# single sorted unique element list \n",
    "l3 = l1 + l2\n",
    "print(l3)\n",
    "\n",
    "l3.sort()\n",
    "print(l3)\n",
    "\n",
    "for value in l3:\n",
    "    if l3.count(value) > 1:\n",
    "         l3.remove(value)\n",
    "\n",
    "print(l3)\n",
    "   \n",
    "\n"
   ]
  },
  {
   "cell_type": "code",
   "execution_count": 76,
   "metadata": {},
   "outputs": [
    {
     "name": "stdout",
     "output_type": "stream",
     "text": [
      "[10, 20, 35, 45, 10, 10, 20, 35, 45, 85, 95, 100, 200, 300, 40, 10, 12, 10, 45, 85, 95]\n",
      "[10, 10, 10, 10, 10, 12, 20, 20, 35, 35, 40, 45, 45, 45, 85, 85, 95, 95, 100, 200, 300]\n",
      "[10, 12, 20, 35, 40, 45, 85, 95, 100, 200, 300]\n"
     ]
    }
   ],
   "source": [
    "l1 = [10,20,35,45,10,10,20,35,45,85,95]\n",
    "l2 = [100,200,300,40,10,12,10,45,85,95]\n",
    "# \n",
    "# single sorted unique element list \n",
    "l4 = []\n",
    "l3 = l1 + l2\n",
    "print(l3)\n",
    "\n",
    "l3.sort()\n",
    "print(l3)\n",
    "\n",
    "for value in l3:\n",
    "    if value not in l4:\n",
    "        l4.append(value)\n",
    "print(l4)"
   ]
  },
  {
   "cell_type": "code",
   "execution_count": 78,
   "metadata": {},
   "outputs": [
    {
     "name": "stdout",
     "output_type": "stream",
     "text": [
      "(1, 100, 10)\n",
      "(2, 200, 20)\n",
      "(3, 300, 30)\n",
      "(4, 400, 40)\n",
      "(5, 500, 50)\n"
     ]
    }
   ],
   "source": [
    "l1 = [1,2,3,4,5]\n",
    "l2 = [100,200,300,400,500]\n",
    "l3 = [10,20,30,40,50,60,70]\n",
    "for value in zip(l1,l2,l3):\n",
    "    print(value)"
   ]
  },
  {
   "cell_type": "code",
   "execution_count": null,
   "metadata": {},
   "outputs": [],
   "source": [
    "Add:\n",
    "    append \n",
    "    extend \n",
    "    insert \n",
    "    \n",
    "Update :\n",
    "    l[index] =new_value \n",
    "    \n",
    "Delete :\n",
    "    pop(2) => index \n",
    "    clear \n",
    "    remove(2)  => value \n",
    "    del"
   ]
  },
  {
   "cell_type": "code",
   "execution_count": null,
   "metadata": {},
   "outputs": [],
   "source": [
    "Tuple:\n",
    "    immutable no methods to add update and delete \n",
    "    ordered => indexing and slicing \n",
    "    "
   ]
  },
  {
   "cell_type": "code",
   "execution_count": 80,
   "metadata": {},
   "outputs": [
    {
     "ename": "TypeError",
     "evalue": "'tuple' object does not support item assignment",
     "output_type": "error",
     "traceback": [
      "\u001b[1;31m---------------------------------------------------------------------------\u001b[0m",
      "\u001b[1;31mTypeError\u001b[0m                                 Traceback (most recent call last)",
      "\u001b[1;32m<ipython-input-80-ef6becad80ac>\u001b[0m in \u001b[0;36m<module>\u001b[1;34m()\u001b[0m\n\u001b[0;32m      1\u001b[0m \u001b[0mt\u001b[0m \u001b[1;33m=\u001b[0m \u001b[1;33m(\u001b[0m\u001b[1;36m10\u001b[0m\u001b[1;33m,\u001b[0m\u001b[1;36m20\u001b[0m\u001b[1;33m,\u001b[0m\u001b[1;36m30\u001b[0m\u001b[1;33m,\u001b[0m\u001b[1;36m40\u001b[0m\u001b[1;33m,\u001b[0m\u001b[1;36m50\u001b[0m\u001b[1;33m,\u001b[0m\u001b[1;36m60\u001b[0m\u001b[1;33m)\u001b[0m\u001b[1;33m\u001b[0m\u001b[0m\n\u001b[1;32m----> 2\u001b[1;33m \u001b[0mt\u001b[0m\u001b[1;33m[\u001b[0m\u001b[1;36m1\u001b[0m\u001b[1;33m]\u001b[0m \u001b[1;33m=\u001b[0m \u001b[1;36m100\u001b[0m\u001b[1;33m\u001b[0m\u001b[0m\n\u001b[0m\u001b[0;32m      3\u001b[0m \u001b[0mprint\u001b[0m\u001b[1;33m(\u001b[0m\u001b[0mt\u001b[0m\u001b[1;33m)\u001b[0m\u001b[1;33m\u001b[0m\u001b[0m\n",
      "\u001b[1;31mTypeError\u001b[0m: 'tuple' object does not support item assignment"
     ]
    }
   ],
   "source": [
    "t = (10,20,30,40,50,60)\n",
    "t[1] = 100\n",
    "print(t)"
   ]
  },
  {
   "cell_type": "code",
   "execution_count": 83,
   "metadata": {},
   "outputs": [
    {
     "name": "stdout",
     "output_type": "stream",
     "text": [
      "(0, 10)\n",
      "(1, 20)\n",
      "(2, 30)\n",
      "(3, 40)\n",
      "(4, 50)\n"
     ]
    }
   ],
   "source": [
    "l = [10,20,30,40,50]\n",
    "for t in enumerate(l):\n",
    "    print(t)\n"
   ]
  },
  {
   "cell_type": "code",
   "execution_count": 84,
   "metadata": {},
   "outputs": [
    {
     "name": "stdout",
     "output_type": "stream",
     "text": [
      "(100, 200, 300)\n"
     ]
    }
   ],
   "source": [
    "x = 100,200,300\n",
    "print(x)"
   ]
  },
  {
   "cell_type": "code",
   "execution_count": 87,
   "metadata": {},
   "outputs": [
    {
     "name": "stdout",
     "output_type": "stream",
     "text": [
      "100 200\n"
     ]
    }
   ],
   "source": [
    "x,y = (100,200)\n",
    "print(x,y)"
   ]
  },
  {
   "cell_type": "code",
   "execution_count": 89,
   "metadata": {},
   "outputs": [
    {
     "name": "stdout",
     "output_type": "stream",
     "text": [
      "5\n",
      "2\n"
     ]
    }
   ],
   "source": [
    "t = (10,10,20,30,40,50,50)\n",
    "print(t.index(50))\n",
    "print(t.count(50))"
   ]
  },
  {
   "cell_type": "code",
   "execution_count": null,
   "metadata": {},
   "outputs": [],
   "source": []
  }
 ],
 "metadata": {
  "kernelspec": {
   "display_name": "Python 3",
   "language": "python",
   "name": "python3"
  },
  "language_info": {
   "codemirror_mode": {
    "name": "ipython",
    "version": 3
   },
   "file_extension": ".py",
   "mimetype": "text/x-python",
   "name": "python",
   "nbconvert_exporter": "python",
   "pygments_lexer": "ipython3",
   "version": "3.6.5"
  }
 },
 "nbformat": 4,
 "nbformat_minor": 2
}
