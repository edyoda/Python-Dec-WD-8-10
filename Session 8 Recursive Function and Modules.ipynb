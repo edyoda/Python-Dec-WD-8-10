{
 "cells": [
  {
   "cell_type": "code",
   "execution_count": null,
   "metadata": {},
   "outputs": [],
   "source": [
    "def fun_name(args):\n",
    "    \n",
    "    \n",
    "fun_name(args)\n",
    "\n",
    "\n"
   ]
  },
  {
   "cell_type": "code",
   "execution_count": null,
   "metadata": {},
   "outputs": [],
   "source": [
    "positional => no of args should be same  \n",
    "default fun def num = 100 \n",
    "keyword password =\"abd@123\", username =\"abc\" \n",
    "variable positional *args => tuple \n",
    "varibale keyword  => **kwargs => dict \n",
    "unpacking *l  **d"
   ]
  },
  {
   "cell_type": "code",
   "execution_count": 3,
   "metadata": {},
   "outputs": [
    {
     "name": "stdout",
     "output_type": "stream",
     "text": [
      "120\n"
     ]
    }
   ],
   "source": [
    "def fact(num):\n",
    "    if num == 1:\n",
    "        return 1\n",
    "    else:\n",
    "        return num * fact(num-1)\n",
    "\n",
    "result = fact(5)\n",
    "print(result)"
   ]
  },
  {
   "cell_type": "code",
   "execution_count": null,
   "metadata": {},
   "outputs": [],
   "source": [
    "fact(5) = > return 5 * fact(4) => 5 * 24 120\n",
    "                    return 4 * fact(3) => 4 * 6 = 24\n",
    "                        return 3 * fact(2) retrun 3 * 2 => 6\n",
    "                            return 2 * fact(1) = 2 * 1 = 2\n",
    "                                return 1"
   ]
  },
  {
   "cell_type": "code",
   "execution_count": null,
   "metadata": {},
   "outputs": [],
   "source": [
    "5 = 5 * 4!\n",
    "    5 * 4 * 3!\n",
    "    5 * 4 * 3 * 2!\n",
    "    5 * 4 * 3 * 2 * 1!\n",
    "                    "
   ]
  },
  {
   "cell_type": "code",
   "execution_count": 16,
   "metadata": {},
   "outputs": [
    {
     "name": "stdout",
     "output_type": "stream",
     "text": [
      "True\n"
     ]
    }
   ],
   "source": [
    "    def binary_search(l,key):\n",
    "\n",
    "        if len(l) == 0:\n",
    "            return False\n",
    "        else:\n",
    "            mid = len(l) // 2\n",
    "            if key == l[mid]:\n",
    "                return True\n",
    "            elif key < l[mid]:\n",
    "                return binary_search(l[0:mid],key)\n",
    "            else:\n",
    "                return binary_search(l[mid+1 :],key)\n",
    "\n",
    "    l = [10,20,30,40,50,60,70,80]\n",
    "    l.sort()\n",
    "    key = 60\n",
    "    result = binary_search(l,key)\n",
    "    print(result)"
   ]
  },
  {
   "cell_type": "code",
   "execution_count": null,
   "metadata": {},
   "outputs": [],
   "source": [
    "bs(l,70): True \n",
    "    return bs([60,70,80],60) => True \n",
    "        bs([60],60) => True "
   ]
  },
  {
   "cell_type": "code",
   "execution_count": null,
   "metadata": {},
   "outputs": [],
   "source": [
    "1 List should be sorted \n",
    "2 mid len(l) / 2 \n",
    "    if key == mid 60 == 50 return True\n",
    "\n",
    "    if key < mid \n",
    "    l = [10,20,30,40]\n",
    "    if key > mid\n",
    "    l = [60,70,80]\n",
    "    key = 60\n",
    "    \n",
    "        mid = l(2) mid 70 key = 60 \n",
    "            if key == mid \n",
    "            \n",
    "            else key < mid \n",
    "                key 60 \n",
    "                mid 70\n",
    "                \n",
    "                    l = [60]\n",
    "                    key = 60 \n",
    "                    \n",
    "                    mid = 1 / 2 = 0\n",
    "                    if mid == key \n",
    "                        return True \n",
    "                \n",
    "            \n",
    "            else key > mid "
   ]
  },
  {
   "cell_type": "code",
   "execution_count": null,
   "metadata": {},
   "outputs": [],
   "source": [
    "d = {\"id\":101,\"user\":{\"username\":\"abc@1234\",\"email\":\"abc@gmail.com\",\"organization\":{\"name\":\"xyz\",\"dept\":\"xyz\"}},\"contact\":\"7123456789\"}\n",
    "\n",
    "d2 = {\"id\":101,\"username\":\"abc@1234\",\"email\":\"abc@gmail.com\",\"contact\":\"7123456789\",\"name\":\"xyz\",\"dept\":\"xyz\"}"
   ]
  },
  {
   "cell_type": "code",
   "execution_count": 18,
   "metadata": {},
   "outputs": [
    {
     "name": "stdout",
     "output_type": "stream",
     "text": [
      "1 100\n",
      "2 200\n",
      "3 300\n",
      "4 400\n"
     ]
    }
   ],
   "source": [
    "d = {1:100,2:200,3:300,4:400}\n",
    "\n",
    "for k,v in d.items():\n",
    "    print(k,v)"
   ]
  },
  {
   "cell_type": "code",
   "execution_count": 25,
   "metadata": {},
   "outputs": [
    {
     "name": "stdout",
     "output_type": "stream",
     "text": [
      "id 101\n",
      "user {'username': 'abc@1234', 'email': 'abc@gmail.com', 'organization': {'name': 'xyz', 'dept': 'xyz'}}\n",
      "username abc@1234\n",
      "email abc@gmail.com\n",
      "organization {'name': 'xyz', 'dept': 'xyz'}\n",
      "name xyz\n",
      "dept xyz\n",
      "contact 7123456789\n",
      "{'id': 101, 'username': 'abc@1234', 'email': 'abc@gmail.com', 'name': 'xyz', 'dept': 'xyz', 'contact': '7123456789'}\n"
     ]
    }
   ],
   "source": [
    "def iter_dict(d1,d2):\n",
    "    for key,value in d1.items():\n",
    "        print(key,value)\n",
    "        if type(value) == dict:\n",
    "            iter_dict(value,d2)\n",
    "        else:\n",
    "            d2.setdefault(key,value)\n",
    "    return d2\n",
    "\n",
    "\n",
    "d1 = {\"id\":101,\"user\":{\"username\":\"abc@1234\",\"email\":\"abc@gmail.com\",\"organization\":{\"name\":\"xyz\",\"dept\":\"xyz\"}},\"contact\":\"7123456789\"}\n",
    "d2 = {}\n",
    "\n",
    "result = iter_dict(d1,d2)\n",
    "print(result)"
   ]
  }
 ],
 "metadata": {
  "kernelspec": {
   "display_name": "Python 3",
   "language": "python",
   "name": "python3"
  },
  "language_info": {
   "codemirror_mode": {
    "name": "ipython",
    "version": 3
   },
   "file_extension": ".py",
   "mimetype": "text/x-python",
   "name": "python",
   "nbconvert_exporter": "python",
   "pygments_lexer": "ipython3",
   "version": "3.6.5"
  }
 },
 "nbformat": 4,
 "nbformat_minor": 2
}
