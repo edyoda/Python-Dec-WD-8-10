{
 "cells": [
  {
   "cell_type": "code",
   "execution_count": null,
   "metadata": {},
   "outputs": [],
   "source": [
    "Different modes of opening a file \n",
    "1 read r r+ \n",
    "2 write w w+\n",
    "3 append a a+"
   ]
  },
  {
   "cell_type": "code",
   "execution_count": 1,
   "metadata": {},
   "outputs": [],
   "source": [
    "fp = open(\"python3.7_text.txt\",\"r\")\n",
    "fp.close()"
   ]
  },
  {
   "cell_type": "code",
   "execution_count": 7,
   "metadata": {},
   "outputs": [
    {
     "name": "stdout",
     "output_type": "stream",
     "text": [
      "This article explains the new features in Python 3.7, compared to 3.6. Python 3.7 was released on June 27, 2018. For full details, see the changelog.\n",
      "\n",
      "Summary – Release Highlights\n",
      "New syntax features:\n",
      "\n",
      "PEP 563, postponed evaluation of type annotations.\n",
      "Backwards incompatible syntax changes:\n",
      "\n",
      "async and await are now reserved keywords.\n",
      "New library modules:\n",
      "\n",
      "contextvars: PEP 567 – Context Variables\n",
      "dataclasses: PEP 557 – Data Classes\n",
      "importlib.resources\n",
      "New built-in features:\n",
      "\n",
      "PEP 553, the new breakpoint() function.\n",
      "Python data model improvements:\n",
      "\n",
      "PEP 562, customization of access to module attributes.\n",
      "PEP 560, core support for typing module and generic types.\n",
      "the insertion-order preservation nature of dict objects has been declared to be an official part of the Python language spec.\n",
      "Significant improvements in the standard library:\n",
      "\n",
      "The asyncio module has received new features, significant usability and performance improvements.\n",
      "The time module gained support for functions with nanosecond resolution.\n",
      "CPython implementation improvements:\n",
      "\n",
      "Avoiding the use of ASCII as a default text encoding:\n",
      "PEP 538, legacy C locale coercion\n",
      "PEP 540, forced UTF-8 runtime mode\n",
      "PEP 552, deterministic .pycs\n",
      "the new development runtime mode\n",
      "PEP 565, improved DeprecationWarning handling\n",
      "C API improvements:\n",
      "\n",
      "PEP 539, new C API for thread-local storage\n",
      "Documentation improvements:\n",
      "\n",
      "PEP 545, Python documentation translations\n",
      "New documentation translations: Japanese, French, and Korean.\n",
      "This release features notable performance improvements in many areas. The Optimizations section lists them in detail.\n",
      "\n",
      "For a list of changes that may affect compatibility with previous Python releases please refer to the Porting to Python 3.7 section.\n",
      "\n",
      "New Features\n",
      "PEP 563: Postponed Evaluation of Annotations\n",
      "The advent of type hints in Python uncovered two glaring usability issues with the functionality of annotations added in PEP 3107 and refined further in PEP 526:\n",
      "\n",
      "annotations could only use names which were already available in the current scope, in other words they didn’t support forward references of any kind; and\n",
      "annotating source code had adverse effects on startup time of Python programs.\n",
      "Both of these issues are fixed by postponing the evaluation of annotations. Instead of compiling code which executes expressions in annotations at their definition time, the compiler stores the annotation in a string form equivalent to the AST of the expression in question. If needed, annotations can be resolved at runtime using typing.get_type_hints(). In the common case where this is not required, the annotations are cheaper to store (since short strings are interned by the interpreter) and make startup time faster.\n",
      "\n",
      "Usability-wise, annotations now support forward references, making the following syntax valid:\n",
      "\n",
      "class C:\n",
      "    @classmethod\n",
      "    def from_string(cls, source: str) -> C:\n",
      "        ...\n",
      "\n",
      "    def validate_b(self, obj: B) -> bool:\n",
      "        ...\n",
      "\n",
      "class B:\n",
      "    ...\n",
      "Since this change breaks compatibility, the new behavior needs to be enabled on a per-module basis in Python 3.7 using a __future__ import:\n",
      "\n",
      "from __future__ import annotations\n",
      "It will become the default in Python 4.0.\n",
      "\n",
      "See also\n",
      "PEP 563 – Postponed evaluation of annotations\n",
      "PEP written and implemented by Łukasz Langa.\n",
      "PEP 538: Legacy C Locale Coercion\n",
      "An ongoing challenge within the Python 3 series has been determining a sensible default strategy for handling the “7-bit ASCII” text encoding assumption currently implied by the use of the default C or POSIX locale on non-Windows platforms.\n",
      "\n",
      "PEP 538 updates the default interpreter command line interface to automatically coerce that locale to an available UTF-8 based locale as described in the documentation of the new PYTHONCOERCECLOCALE environment variable. Automatically setting LC_CTYPE this way means that both the core interpreter and locale-aware C extensions (such as readline) will assume the use of UTF-8 as the default text encoding, rather than ASCII.\n",
      "\n",
      "The platform support definition in PEP 11 has also been updated to limit full text handling support to suitably configured non-ASCII based locales.\n",
      "\n",
      "As part of this change, the default error handler for stdin and stdout is now surrogateescape (rather than strict) when using any of the defined coercion target locales (currently C.UTF-8, C.utf8, and UTF-8). The default error handler for stderr continues to be backslashreplace, regardless of locale.\n",
      "\n",
      "Locale coercion is silent by default, but to assist in debugging potentially locale related integration problems, explicit warnings (emitted directly on stderr) can be requested by setting PYTHONCOERCECLOCALE=warn. This setting will also cause the Python runtime to emit a warning if the legacy C locale remains active when the core interpreter is initialized.\n",
      "\n",
      "While PEP 538’s locale coercion has the benefit of also affecting extension modules (such as GNU readline), as well as child processes (including those running non-Python applications and older versions of Python), it has the downside of requiring that a suitable target locale be present on the running system. To better handle the case where no suitable target locale is available (as occurs on RHEL/CentOS 7, for example), Python 3.7 also implements PEP 540: Forced UTF-8 Runtime Mode.\n",
      "-----------------------------------------\n",
      "\n"
     ]
    }
   ],
   "source": [
    "fp = open(\"python3.7_text.txt\",\"r\",encoding=\"utf-8\")\n",
    "content = fp.read()\n",
    "print((content))\n",
    "print(\"-----------------------------------------\")\n",
    "content = fp.read()\n",
    "print((content))\n",
    "fp.close()"
   ]
  },
  {
   "cell_type": "code",
   "execution_count": 9,
   "metadata": {
    "scrolled": true
   },
   "outputs": [
    {
     "name": "stdout",
     "output_type": "stream",
     "text": [
      "This article explains the new features in Python 3.7, compared to 3.6. Python 3.7 was released on June 27, 2018. For full details, see the changelog.\n",
      "\n",
      "Summary – Release Highlights\n",
      "New syntax features:\n",
      "\n",
      "PEP 563, postponed evaluation of type annotations.\n",
      "Backwards incompatible syntax changes:\n",
      "\n",
      "async and await are now reserved keywords.\n",
      "New library modules:\n",
      "\n",
      "contextvars: PEP 567 – Context Variables\n",
      "dataclasses: PEP 557 – Data Classes\n",
      "importlib.resources\n",
      "New built-in features:\n",
      "\n",
      "PEP 553, the new brea\n",
      "kpoint() function.\n",
      "Python data model improvements:\n",
      "\n",
      "PEP 562, customization of access to module attributes.\n",
      "PEP 560, core support for typing module and generic types.\n",
      "the insertion-order preservation nature of dict objects has been declared to be an official part of the Python language spec.\n",
      "Significant improvements in the standard library:\n",
      "\n",
      "The asyncio module has received new features, significant usability and performance improvements.\n",
      "The time module gained support for functions with nanosecon\n"
     ]
    }
   ],
   "source": [
    "fp = open(\"python3.7_text.txt\",\"r\",encoding=\"utf-8\")\n",
    "content = fp.read(500)\n",
    "print((content))\n",
    "\n",
    "content = fp.read(500)\n",
    "print((content))\n",
    "\n",
    "fp.close()"
   ]
  },
  {
   "cell_type": "code",
   "execution_count": 12,
   "metadata": {
    "scrolled": true
   },
   "outputs": [
    {
     "name": "stdout",
     "output_type": "stream",
     "text": [
      "This article explains the new features in Python 3.7, compared to 3.6. Python 3.7 was released on June 27, 2018. For full details, see the changelog.\n",
      "\n",
      "\n",
      "\n",
      "Summary – Release Highlights\n",
      "\n"
     ]
    }
   ],
   "source": [
    "fp = open(\"python3.7_text.txt\",\"r\",encoding=\"utf-8\")\n",
    "content = fp.readline()\n",
    "print((content))\n",
    "\n",
    "content = fp.readline()\n",
    "print((content))\n",
    "\n",
    "content = fp.readline()\n",
    "print((content))\n",
    "\n",
    "fp.close()"
   ]
  },
  {
   "cell_type": "code",
   "execution_count": 22,
   "metadata": {},
   "outputs": [
    {
     "name": "stdout",
     "output_type": "stream",
     "text": [
      "['This article explains the new features in Python 3.7, compared to 3.6. Python 3.7 was released on June 27, 2018. For full details, see the changelog.\\n', '\\n', 'Summary – Release Highlights\\n', 'New syntax features:\\n', '\\n', 'PEP 563, postponed evaluation of type annotations.\\n', 'Backwards incompatible syntax changes:\\n', '\\n', 'async and await are now reserved keywords.\\n', 'New library modules:\\n', '\\n', 'contextvars: PEP 567 – Context Variables\\n', 'dataclasses: PEP 557 – Data Classes\\n', 'importlib.resources\\n', 'New built-in features:\\n', '\\n', 'PEP 553, the new breakpoint() function.\\n', 'Python data model improvements:\\n', '\\n', 'PEP 562, customization of access to module attributes.\\n', 'PEP 560, core support for typing module and generic types.\\n', 'the insertion-order preservation nature of dict objects has been declared to be an official part of the Python language spec.\\n', 'Significant improvements in the standard library:\\n', '\\n', 'The asyncio module has received new features, significant usability and performance improvements.\\n', 'The time module gained support for functions with nanosecond resolution.\\n', 'CPython implementation improvements:\\n', '\\n', 'Avoiding the use of ASCII as a default text encoding:\\n', 'PEP 538, legacy C locale coercion\\n', 'PEP 540, forced UTF-8 runtime mode\\n', 'PEP 552, deterministic .pycs\\n', 'the new development runtime mode\\n', 'PEP 565, improved DeprecationWarning handling\\n', 'C API improvements:\\n', '\\n', 'PEP 539, new C API for thread-local storage\\n', 'Documentation improvements:\\n', '\\n', 'PEP 545, Python documentation translations\\n', 'New documentation translations: Japanese, French, and Korean.\\n', 'This release features notable performance improvements in many areas. The Optimizations section lists them in detail.\\n', '\\n', 'For a list of changes that may affect compatibility with previous Python releases please refer to the Porting to Python 3.7 section.\\n', '\\n', 'New Features\\n', 'PEP 563: Postponed Evaluation of Annotations\\n', 'The advent of type hints in Python uncovered two glaring usability issues with the functionality of annotations added in PEP 3107 and refined further in PEP 526:\\n', '\\n', 'annotations could only use names which were already available in the current scope, in other words they didn’t support forward references of any kind; and\\n', 'annotating source code had adverse effects on startup time of Python programs.\\n', 'Both of these issues are fixed by postponing the evaluation of annotations. Instead of compiling code which executes expressions in annotations at their definition time, the compiler stores the annotation in a string form equivalent to the AST of the expression in question. If needed, annotations can be resolved at runtime using typing.get_type_hints(). In the common case where this is not required, the annotations are cheaper to store (since short strings are interned by the interpreter) and make startup time faster.\\n', '\\n', 'Usability-wise, annotations now support forward references, making the following syntax valid:\\n', '\\n', 'class C:\\n', '    @classmethod\\n', '    def from_string(cls, source: str) -> C:\\n', '        ...\\n', '\\n', '    def validate_b(self, obj: B) -> bool:\\n', '        ...\\n', '\\n', 'class B:\\n', '    ...\\n', 'Since this change breaks compatibility, the new behavior needs to be enabled on a per-module basis in Python 3.7 using a __future__ import:\\n', '\\n', 'from __future__ import annotations\\n', 'It will become the default in Python 4.0.\\n', '\\n', 'See also\\n', 'PEP 563 – Postponed evaluation of annotations\\n', 'PEP written and implemented by Łukasz Langa.\\n', 'PEP 538: Legacy C Locale Coercion\\n', 'An ongoing challenge within the Python 3 series has been determining a sensible default strategy for handling the “7-bit ASCII” text encoding assumption currently implied by the use of the default C or POSIX locale on non-Windows platforms.\\n', '\\n', 'PEP 538 updates the default interpreter command line interface to automatically coerce that locale to an available UTF-8 based locale as described in the documentation of the new PYTHONCOERCECLOCALE environment variable. Automatically setting LC_CTYPE this way means that both the core interpreter and locale-aware C extensions (such as readline) will assume the use of UTF-8 as the default text encoding, rather than ASCII.\\n', '\\n', 'The platform support definition in PEP 11 has also been updated to limit full text handling support to suitably configured non-ASCII based locales.\\n', '\\n', 'As part of this change, the default error handler for stdin and stdout is now surrogateescape (rather than strict) when using any of the defined coercion target locales (currently C.UTF-8, C.utf8, and UTF-8). The default error handler for stderr continues to be backslashreplace, regardless of locale.\\n', '\\n', 'Locale coercion is silent by default, but to assist in debugging potentially locale related integration problems, explicit warnings (emitted directly on stderr) can be requested by setting PYTHONCOERCECLOCALE=warn. This setting will also cause the Python runtime to emit a warning if the legacy C locale remains active when the core interpreter is initialized.\\n', '\\n', 'While PEP 538’s locale coercion has the benefit of also affecting extension modules (such as GNU readline), as well as child processes (including those running non-Python applications and older versions of Python), it has the downside of requiring that a suitable target locale be present on the running system. To better handle the case where no suitable target locale is available (as occurs on RHEL/CentOS 7, for example), Python 3.7 also implements PEP 540: Forced UTF-8 Runtime Mode.']\n"
     ]
    }
   ],
   "source": [
    "fp = open(\"python3.7_text.txt\",\"r\",encoding=\"utf-8\")\n",
    "\n",
    "\n",
    "content = fp.readlines()\n",
    "print((content))\n",
    "\n",
    "fp.close()"
   ]
  },
  {
   "cell_type": "code",
   "execution_count": null,
   "metadata": {},
   "outputs": [],
   "source": [
    "read()\n",
    "read(250)\n",
    "readline()\n",
    "readlines() => list "
   ]
  },
  {
   "cell_type": "code",
   "execution_count": null,
   "metadata": {},
   "outputs": [],
   "source": [
    "PEP 540: Forced UTF-8 Runtime Mode\n",
    "The new -X utf8 command line option and PYTHONUTF8 environment variable can be used to enable the CPython UTF-8 mode.\n",
    "\n",
    "When in UTF-8 mode, CPython ignores the locale settings, and uses the UTF-8 encoding by default. The error handlers for sys.stdin and sys.stdout streams are set to surrogateescape.\n",
    "\n",
    "The forced UTF-8 mode can be used to change the text handling behavior in an embedded Python interpreter without changing the locale settings of an embedding application."
   ]
  },
  {
   "cell_type": "code",
   "execution_count": 25,
   "metadata": {},
   "outputs": [
    {
     "ename": "UnsupportedOperation",
     "evalue": "not readable",
     "output_type": "error",
     "traceback": [
      "\u001b[1;31m---------------------------------------------------------------------------\u001b[0m",
      "\u001b[1;31mUnsupportedOperation\u001b[0m                      Traceback (most recent call last)",
      "\u001b[1;32m<ipython-input-25-4489a31a31a7>\u001b[0m in \u001b[0;36m<module>\u001b[1;34m()\u001b[0m\n\u001b[0;32m      8\u001b[0m The forced UTF-8 mode can be used to change the text handling behavior in an embedded Python interpreter without changing the locale settings of an embedding application.\"\"\")\n\u001b[0;32m      9\u001b[0m \u001b[1;33m\u001b[0m\u001b[0m\n\u001b[1;32m---> 10\u001b[1;33m \u001b[0mcontent\u001b[0m \u001b[1;33m=\u001b[0m \u001b[0mfp\u001b[0m\u001b[1;33m.\u001b[0m\u001b[0mread\u001b[0m\u001b[1;33m(\u001b[0m\u001b[1;33m)\u001b[0m\u001b[1;33m\u001b[0m\u001b[0m\n\u001b[0m\u001b[0;32m     11\u001b[0m \u001b[0mprint\u001b[0m\u001b[1;33m(\u001b[0m\u001b[0mcontent\u001b[0m\u001b[1;33m)\u001b[0m\u001b[1;33m\u001b[0m\u001b[0m\n\u001b[0;32m     12\u001b[0m \u001b[1;33m\u001b[0m\u001b[0m\n",
      "\u001b[1;31mUnsupportedOperation\u001b[0m: not readable"
     ]
    }
   ],
   "source": [
    "fp = open(\"python3.7_text1.txt\",\"w\",encoding=\"utf-8\")\n",
    "\n",
    "fp.write(\"\"\"PEP 540: Forced UTF-8 Runtime Mode\n",
    "The new -X utf8 command line option and PYTHONUTF8 environment variable can be used to enable the CPython UTF-8 mode.\n",
    "\n",
    "When in UTF-8 mode, CPython ignores the locale settings, and uses the UTF-8 encoding by default. The error handlers for sys.stdin and sys.stdout streams are set to surrogateescape.\n",
    "\n",
    "The forced UTF-8 mode can be used to change the text handling behavior in an embedded Python interpreter without changing the locale settings of an embedding application.\"\"\")\n",
    "\n",
    "content = fp.read()\n",
    "print(content)\n",
    "\n",
    "fp.close()"
   ]
  },
  {
   "cell_type": "code",
   "execution_count": 28,
   "metadata": {},
   "outputs": [
    {
     "name": "stdout",
     "output_type": "stream",
     "text": [
      "0\n",
      "0\n",
      "\n",
      "------------------------------------\n",
      "0\n",
      "511\n",
      "0\n",
      "PEP 540: Forced UTF-8 Runtime Mode\n",
      "The new -X utf8 command line option and PYTHONUTF8 environment variable can be used to enable the CPython UTF-8 mode.\n",
      "\n",
      "When in UTF-8 mode, CPython ignores the locale settings, and uses the UTF-8 encoding by default. The error handlers for sys.stdin and sys.stdout streams are set to surrogateescape.\n",
      "\n",
      "The forced UTF-8 mode can be used to change the text handling behavior in an embedded Python interpreter without changing the locale settings of an embedding application.\n"
     ]
    }
   ],
   "source": [
    "fp = open(\"python3.7_text1.txt\",\"w+\",encoding=\"utf-8\")\n",
    "print(fp.tell())\n",
    "fp.seek(0,0)\n",
    "print(fp.tell())\n",
    "content = fp.read()\n",
    "print(content)\n",
    "print(\"------------------------------------\")\n",
    "print(fp.tell())\n",
    "fp.write(\"\"\"PEP 540: Forced UTF-8 Runtime Mode\n",
    "The new -X utf8 command line option and PYTHONUTF8 environment variable can be used to enable the CPython UTF-8 mode.\n",
    "\n",
    "When in UTF-8 mode, CPython ignores the locale settings, and uses the UTF-8 encoding by default. The error handlers for sys.stdin and sys.stdout streams are set to surrogateescape.\n",
    "\n",
    "The forced UTF-8 mode can be used to change the text handling behavior in an embedded Python interpreter without changing the locale settings of an embedding application.\"\"\")\n",
    "print(fp.tell())\n",
    "fp.seek(0,0)\n",
    "print(fp.tell())\n",
    "content = fp.read()\n",
    "print(content)\n",
    "\n",
    "fp.close()"
   ]
  },
  {
   "cell_type": "code",
   "execution_count": null,
   "metadata": {},
   "outputs": [],
   "source": []
  },
  {
   "cell_type": "code",
   "execution_count": null,
   "metadata": {},
   "outputs": [],
   "source": []
  },
  {
   "cell_type": "code",
   "execution_count": null,
   "metadata": {},
   "outputs": [],
   "source": [
    "tell()\n",
    "seek(offset,position)\n",
    "\n",
    "0 : start of the file \n",
    "1 : current position\n",
    "2 : end of the file\n",
    "    \n",
    "    seek(15,0)\n",
    "    seek(0,0)\n",
    "    seek(15,2)"
   ]
  },
  {
   "cell_type": "code",
   "execution_count": null,
   "metadata": {},
   "outputs": [],
   "source": [
    "r+ read + write \n",
    "w+ write + read "
   ]
  },
  {
   "cell_type": "code",
   "execution_count": 32,
   "metadata": {},
   "outputs": [
    {
     "name": "stdout",
     "output_type": "stream",
     "text": [
      "While PEP 540’s UTF-8 mode has the benefit of working regardless of which locales are available on the running system, it has the downside of having no effect on extension modules (such as GNU readline), child processes running non-Python applications, and child processes running older versions of Python. To reduce the risk of corrupting text data when communicating with such components, Python 3.7 also implements PEP 540: Forced UTF-8 Runtime Mode).anging the locale settings of an embedding application.\n",
      "While PEP 540’s UTF-8 mode has the benefit of working regardless of which locales are available on the running system, it has the downside of having no effect on extension modules (such as GNU readline), child processes running non-Python applications, and child processes running older versions of Python. To reduce the risk of corrupting text data when communicating with such components, Python 3.7 also implements PEP 540: Forced UTF-8 Runtime Mode).\n",
      "While PEP 540’s UTF-8 mode has the benefit of working regardless of which locales are available on the running system, it has the downside of having no effect on extension modules (such as GNU readline), child processes running non-Python applications, and child processes running older versions of Python. To reduce the risk of corrupting text data when communicating with such components, Python 3.7 also implements PEP 540: Forced UTF-8 Runtime Mode).\n",
      "While PEP 540’s UTF-8 mode has the benefit of working regardless of which locales are available on the running system, it has the downside of having no effect on extension modules (such as GNU readline), child processes running non-Python applications, and child processes running older versions of Python. To reduce the risk of corrupting text data when communicating with such components, Python 3.7 also implements PEP 540: Forced UTF-8 Runtime Mode).\n"
     ]
    }
   ],
   "source": [
    "fp = open(\"python3.7_text.txt\",\"r+\",encoding=\"utf-8\")\n",
    "\n",
    "fp.seek(0,2)\n",
    "fp.write(\"\"\"\\nWhile PEP 540’s UTF-8 mode has the benefit of working regardless of which locales are available on the running system, it has the downside of having no effect on extension modules (such as GNU readline), child processes running non-Python applications, and child processes running older versions of Python. To reduce the risk of corrupting text data when communicating with such components, Python 3.7 also implements PEP 540: Forced UTF-8 Runtime Mode).\"\"\")\n",
    "fp.seek(0)\n",
    "content = fp.read()\n",
    "print(content)\n",
    "\n",
    "fp.close()"
   ]
  },
  {
   "cell_type": "code",
   "execution_count": 42,
   "metadata": {},
   "outputs": [
    {
     "name": "stdout",
     "output_type": "stream",
     "text": [
      "\n"
     ]
    }
   ],
   "source": [
    "fp1 = open(\"python3.7_text.txt\",\"a+\",encoding=\"utf-8\")\n",
    "\n",
    "# for x in fp1:\n",
    "#     print(x)\n",
    "\n",
    "# fp.write(\"\"\"\\nThe UTF-8 mode is enabled by default when the locale is C or POSIX, and the PEP 538 locale coercion feature fails to change it to a UTF-8 based alternative (whether that failure is due to PYTHONCOERCECLOCALE=0 being set, LC_ALL being set, or the lack of a suitable target locale).\"\"\")\n",
    "# fp.seek(0)\n",
    "content = fp1.read()\n",
    "print(content)\n",
    "\n",
    "fp1.close()"
   ]
  },
  {
   "cell_type": "code",
   "execution_count": null,
   "metadata": {},
   "outputs": [],
   "source": [
    "r  => fp => start ,file does not exist => error, operations => read\n",
    "r+ => fp => start,error,read,write \n",
    "\n",
    "w => start,create new file ,write \n",
    "w+ => start,create new file,write + read \n",
    "\n",
    "a  => fp => end ,create ,append at the end\n",
    "a+ => fp => end ,create,read + append\n",
    "\n",
    "\n",
    "tell()\n",
    "seek(offet,position)"
   ]
  },
  {
   "cell_type": "code",
   "execution_count": 44,
   "metadata": {},
   "outputs": [
    {
     "name": "stdout",
     "output_type": "stream",
     "text": [
      "While PEP 540â€™s UTF-8 mode has the benefit of working regardless of which locales are available on the running system, \n",
      "\n",
      "it has the downside of having no effect on extension modules (such as GNU readline), child processes running non-Python applications, and child processes running older versions of Python. To reduce the risk of corrupting text data when communicating with such components, Python 3.7 also implements PEP 540: Forced UTF-8 Runtime Mode).\n",
      "\n"
     ]
    }
   ],
   "source": [
    "fp2 = open(\"python3.7_text.txt\",\"r\")\n",
    "for x in fp2:\n",
    "    print(x)\n",
    "\n",
    "fp2.close()"
   ]
  },
  {
   "cell_type": "code",
   "execution_count": 51,
   "metadata": {},
   "outputs": [
    {
     "name": "stdout",
     "output_type": "stream",
     "text": [
      "['5', '5', '5', '5', '5\\n']\n",
      "['5', '4', '5', '4', '5\\n']\n",
      "['3', '5', '3', '5', '5']\n"
     ]
    }
   ],
   "source": [
    "fp = open(\"reviews.txt\",\"r\")\n",
    "fp1 = open(\"avg_review.txt\",\"w\")\n",
    "for row in fp:\n",
    "    review = row.split(\" \")[1]\n",
    "    name  = row.split(\" \")[0]\n",
    "    \n",
    "    numbers = review.split(\",\")\n",
    "    print(numbers)\n",
    "    \n",
    "    sum = 0 \n",
    "    for value in numbers:\n",
    "        sum = sum + int(value)\n",
    "        \n",
    "    avg = sum / 5\n",
    "    fp1.write(\"{} {}\\n\".format(name,avg))\n",
    "\n",
    "\n",
    "fp.close()\n",
    "fp1.close()"
   ]
  }
 ],
 "metadata": {
  "kernelspec": {
   "display_name": "Python 3",
   "language": "python",
   "name": "python3"
  },
  "language_info": {
   "codemirror_mode": {
    "name": "ipython",
    "version": 3
   },
   "file_extension": ".py",
   "mimetype": "text/x-python",
   "name": "python",
   "nbconvert_exporter": "python",
   "pygments_lexer": "ipython3",
   "version": "3.6.5"
  }
 },
 "nbformat": 4,
 "nbformat_minor": 2
}
