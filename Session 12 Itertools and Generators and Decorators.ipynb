{
 "cells": [
  {
   "cell_type": "code",
   "execution_count": null,
   "metadata": {},
   "outputs": [],
   "source": [
    "iterartors "
   ]
  },
  {
   "cell_type": "code",
   "execution_count": 1,
   "metadata": {},
   "outputs": [
    {
     "name": "stdout",
     "output_type": "stream",
     "text": [
      "range(1, 10)\n"
     ]
    }
   ],
   "source": [
    "print(range(1,10))"
   ]
  },
  {
   "cell_type": "code",
   "execution_count": null,
   "metadata": {},
   "outputs": [],
   "source": [
    "iter \n",
    "next "
   ]
  },
  {
   "cell_type": "code",
   "execution_count": 2,
   "metadata": {},
   "outputs": [
    {
     "name": "stdout",
     "output_type": "stream",
     "text": [
      "['__add__', '__class__', '__contains__', '__delattr__', '__delitem__', '__dir__', '__doc__', '__eq__', '__format__', '__ge__', '__getattribute__', '__getitem__', '__gt__', '__hash__', '__iadd__', '__imul__', '__init__', '__init_subclass__', '__iter__', '__le__', '__len__', '__lt__', '__mul__', '__ne__', '__new__', '__reduce__', '__reduce_ex__', '__repr__', '__reversed__', '__rmul__', '__setattr__', '__setitem__', '__sizeof__', '__str__', '__subclasshook__', 'append', 'clear', 'copy', 'count', 'extend', 'index', 'insert', 'pop', 'remove', 'reverse', 'sort']\n"
     ]
    }
   ],
   "source": [
    "print(dir(list))"
   ]
  },
  {
   "cell_type": "code",
   "execution_count": 10,
   "metadata": {},
   "outputs": [
    {
     "name": "stdout",
     "output_type": "stream",
     "text": [
      "<list_iterator object at 0x0000021EFA226EB8>\n",
      "10\n",
      "20\n",
      "30\n",
      "40\n",
      "50\n",
      "60\n",
      "70\n",
      "10\n",
      "20\n",
      "30\n",
      "40\n",
      "50\n",
      "60\n",
      "70\n"
     ]
    }
   ],
   "source": [
    "l = [10,20,30,40,50,60,70]\n",
    "i = iter(l)\n",
    "j = iter(l)\n",
    "print(i)\n",
    "print(next(i))\n",
    "print(next(i))\n",
    "\n",
    "for value in i:\n",
    "    print(value)\n",
    "    \n",
    "for value in j:\n",
    "    print(value)"
   ]
  },
  {
   "cell_type": "code",
   "execution_count": 11,
   "metadata": {},
   "outputs": [],
   "source": [
    "import itertools"
   ]
  },
  {
   "cell_type": "code",
   "execution_count": 13,
   "metadata": {},
   "outputs": [
    {
     "name": "stdout",
     "output_type": "stream",
     "text": [
      "<itertools.chain object at 0x0000021EFA22B048>\n",
      "10\n",
      "20\n",
      "30\n",
      "40\n",
      "50\n",
      "60\n",
      "Python\n",
      "Java\n",
      "C\n",
      "1\n",
      "2\n",
      "3\n",
      "4\n"
     ]
    }
   ],
   "source": [
    "l1 = [10,20,30,40,50,60]\n",
    "l2 = [\"Python\",\"Java\",\"C\"]\n",
    "l3 = range(1,5)\n",
    "\n",
    "i = itertools.chain(l1,l2,l3)\n",
    "print(i)\n",
    "for value in i:\n",
    "    print(value)"
   ]
  },
  {
   "cell_type": "code",
   "execution_count": 16,
   "metadata": {},
   "outputs": [
    {
     "name": "stdout",
     "output_type": "stream",
     "text": [
      "<zip object at 0x0000021EFA192E88>\n",
      "(10, 100)\n",
      "(20, 200)\n"
     ]
    }
   ],
   "source": [
    "l1 = [10,20,30,40,50,60]\n",
    "l2 = [100,200,300,400,500,600]\n",
    "i =  zip(l1,l2)\n",
    "print(i)\n",
    "print(next(i))\n",
    "print(next(i))"
   ]
  },
  {
   "cell_type": "code",
   "execution_count": null,
   "metadata": {},
   "outputs": [],
   "source": [
    "queryset "
   ]
  },
  {
   "cell_type": "code",
   "execution_count": 17,
   "metadata": {},
   "outputs": [
    {
     "name": "stdout",
     "output_type": "stream",
     "text": [
      "<itertools.chain object at 0x0000021EFA233278>\n",
      "30\n",
      "40\n",
      "50\n",
      "60\n",
      "Python\n",
      "Java\n"
     ]
    }
   ],
   "source": [
    "l1 = [10,20,30,40,50,60]\n",
    "l2 = [\"Python\",\"Java\",\"C\"]\n",
    "l3 = range(1,5)\n",
    "\n",
    "i = itertools.chain(l1,l2,l3)\n",
    "print(i)\n",
    "for value in itertools.islice(i,2,8):\n",
    "    print(value)"
   ]
  },
  {
   "cell_type": "code",
   "execution_count": 21,
   "metadata": {},
   "outputs": [
    {
     "name": "stdout",
     "output_type": "stream",
     "text": [
      "(<itertools._tee object at 0x0000021EFA22DC88>, <itertools._tee object at 0x0000021EFA22CC88>, <itertools._tee object at 0x0000021EFA22C6C8>, <itertools._tee object at 0x0000021EFA22CC48>, <itertools._tee object at 0x0000021EFA22C548>)\n",
      "<itertools.chain object at 0x0000021EFA2335C0>\n",
      "10\n",
      "20\n",
      "30\n",
      "40\n",
      "50\n",
      "60\n",
      "Python\n",
      "Java\n",
      "C\n",
      "1\n",
      "2\n",
      "3\n",
      "4\n",
      "10\n",
      "20\n",
      "30\n",
      "40\n",
      "50\n",
      "60\n",
      "Python\n",
      "Java\n",
      "C\n",
      "1\n",
      "2\n",
      "3\n",
      "4\n"
     ]
    }
   ],
   "source": [
    "l1 = [10,20,30,40,50,60]\n",
    "l2 = [\"Python\",\"Java\",\"C\"]\n",
    "l3 = range(1,5)\n",
    "\n",
    "i = itertools.chain(l1,l2,l3)\n",
    "t = itertools.tee(i,5)\n",
    "print(t)\n",
    "print(i)\n",
    "for value in t[0]:\n",
    "    print(value)\n",
    "    \n",
    "for value in t[1]:\n",
    "    print(value)"
   ]
  },
  {
   "cell_type": "code",
   "execution_count": 25,
   "metadata": {},
   "outputs": [
    {
     "name": "stdout",
     "output_type": "stream",
     "text": [
      "P\n",
      "y\n",
      "t\n",
      "h\n",
      "o\n",
      "n\n",
      "P\n",
      "y\n",
      "t\n",
      "h\n",
      "o\n",
      "n\n",
      "P\n",
      "y\n",
      "t\n",
      "h\n",
      "o\n",
      "n\n",
      "P\n",
      "y\n"
     ]
    }
   ],
   "source": [
    "l = [10,20,30,40,50,60]\n",
    "count = 0\n",
    "for value in itertools.cycle(\"Python\"):\n",
    "    if count < 20:\n",
    "        print(value)\n",
    "    else:\n",
    "        break \n",
    "    count+=1   \n"
   ]
  },
  {
   "cell_type": "code",
   "execution_count": 26,
   "metadata": {},
   "outputs": [
    {
     "name": "stdout",
     "output_type": "stream",
     "text": [
      "Python\n",
      "Python\n",
      "Python\n",
      "Python\n",
      "Python\n",
      "Python\n",
      "Python\n",
      "Python\n",
      "Python\n",
      "Python\n",
      "Python\n",
      "Python\n",
      "Python\n",
      "Python\n",
      "Python\n",
      "Python\n",
      "Python\n",
      "Python\n",
      "Python\n",
      "Python\n"
     ]
    }
   ],
   "source": [
    "l = [10,20,30,40,50,60]\n",
    "count = 0\n",
    "for value in itertools.repeat(\"Python\"):\n",
    "    if count < 20:\n",
    "        print(value)\n",
    "    else:\n",
    "        break \n",
    "    count+=1   \n"
   ]
  },
  {
   "cell_type": "code",
   "execution_count": 30,
   "metadata": {},
   "outputs": [
    {
     "name": "stdout",
     "output_type": "stream",
     "text": [
      "10\n",
      "15\n"
     ]
    }
   ],
   "source": [
    "# range(10)\n",
    "# range(10,50)\n",
    "# range(10,50,5)\n",
    "i = itertools.count(10,5)\n",
    "print(next(i))\n",
    "print(next(i))\n"
   ]
  },
  {
   "cell_type": "code",
   "execution_count": 32,
   "metadata": {},
   "outputs": [
    {
     "name": "stdout",
     "output_type": "stream",
     "text": [
      "[(10, 20), (10, 30), (20, 10), (20, 30), (30, 10), (30, 20)]\n",
      "[(10, 20), (10, 30), (20, 30)]\n"
     ]
    }
   ],
   "source": [
    "l = [10,20,30]\n",
    "print(list(itertools.permutations(l,2)))\n",
    "print(list(itertools.combinations(l,2)))"
   ]
  },
  {
   "cell_type": "code",
   "execution_count": null,
   "metadata": {},
   "outputs": [],
   "source": [
    "gen => func iterators "
   ]
  },
  {
   "cell_type": "code",
   "execution_count": null,
   "metadata": {},
   "outputs": [],
   "source": [
    "def func():\n",
    "    \n",
    "    \n",
    "func()    "
   ]
  },
  {
   "cell_type": "code",
   "execution_count": 40,
   "metadata": {},
   "outputs": [
    {
     "name": "stdout",
     "output_type": "stream",
     "text": [
      "<generator object fibo at 0x0000021EFA2391A8>\n",
      "1\n",
      "1\n",
      "2\n",
      "3\n",
      "5\n",
      "8\n",
      "13\n",
      "21\n",
      "1\n"
     ]
    }
   ],
   "source": [
    "def fibo():\n",
    "    num1 = 0\n",
    "    num2 = 1 \n",
    "    yield num2\n",
    "    while(True):\n",
    "        next_num = num1 + num2\n",
    "        yield next_num\n",
    "        num1,num2 = num2,next_num\n",
    "      \n",
    "g =  fibo()\n",
    "print(g)\n",
    "print(next(g))\n",
    "print(next(g))\n",
    "print(next(g))\n",
    "\n",
    "for value in range(5):\n",
    "    print(next(g))\n",
    "    \n",
    "f = fibo()\n",
    "print(next(f))"
   ]
  },
  {
   "cell_type": "code",
   "execution_count": 44,
   "metadata": {},
   "outputs": [
    {
     "name": "stdout",
     "output_type": "stream",
     "text": [
      "<generator object printVal at 0x0000021EFA2391A8>\n",
      "10\n",
      "20\n",
      "30\n",
      "40\n",
      "50\n"
     ]
    },
    {
     "ename": "StopIteration",
     "evalue": "",
     "output_type": "error",
     "traceback": [
      "\u001b[1;31m---------------------------------------------------------------------------\u001b[0m",
      "\u001b[1;31mStopIteration\u001b[0m                             Traceback (most recent call last)",
      "\u001b[1;32m<ipython-input-44-dc2fd2b79c56>\u001b[0m in \u001b[0;36m<module>\u001b[1;34m()\u001b[0m\n\u001b[0;32m     12\u001b[0m \u001b[0mprint\u001b[0m\u001b[1;33m(\u001b[0m\u001b[0mnext\u001b[0m\u001b[1;33m(\u001b[0m\u001b[0mg\u001b[0m\u001b[1;33m)\u001b[0m\u001b[1;33m)\u001b[0m\u001b[1;33m\u001b[0m\u001b[0m\n\u001b[0;32m     13\u001b[0m \u001b[0mprint\u001b[0m\u001b[1;33m(\u001b[0m\u001b[0mnext\u001b[0m\u001b[1;33m(\u001b[0m\u001b[0mg\u001b[0m\u001b[1;33m)\u001b[0m\u001b[1;33m)\u001b[0m\u001b[1;33m\u001b[0m\u001b[0m\n\u001b[1;32m---> 14\u001b[1;33m \u001b[0mprint\u001b[0m\u001b[1;33m(\u001b[0m\u001b[0mnext\u001b[0m\u001b[1;33m(\u001b[0m\u001b[0mg\u001b[0m\u001b[1;33m)\u001b[0m\u001b[1;33m)\u001b[0m\u001b[1;33m\u001b[0m\u001b[0m\n\u001b[0m",
      "\u001b[1;31mStopIteration\u001b[0m: "
     ]
    }
   ],
   "source": [
    "def printVal(l):\n",
    "    for value in l:\n",
    "        yield value\n",
    "\n",
    "l = [10,20,30,40,50]\n",
    "g = printVal(l)\n",
    "print(g)\n",
    "\n",
    "print(next(g))\n",
    "print(next(g))\n",
    "print(next(g))\n",
    "print(next(g))\n",
    "print(next(g))\n",
    "print(next(g))"
   ]
  },
  {
   "cell_type": "code",
   "execution_count": 49,
   "metadata": {},
   "outputs": [
    {
     "name": "stdout",
     "output_type": "stream",
     "text": [
      "<generator object <genexpr> at 0x0000021EFA2BB678>\n",
      "100\n",
      "400\n"
     ]
    }
   ],
   "source": [
    "l = [10,20,30,40,50,60]\n",
    "l2 = (value * value for value in l)\n",
    "print(l2)\n",
    "print(next(l2))\n",
    "print(next(l2))"
   ]
  },
  {
   "cell_type": "code",
   "execution_count": null,
   "metadata": {},
   "outputs": [],
   "source": [
    "def func(num1,num2,num3):\n",
    "    \n",
    "func(10,20,\"Python\")"
   ]
  },
  {
   "cell_type": "code",
   "execution_count": null,
   "metadata": {},
   "outputs": [],
   "source": [
    "deco a func which takes func as an arg and return a new func"
   ]
  },
  {
   "cell_type": "code",
   "execution_count": null,
   "metadata": {},
   "outputs": [],
   "source": [
    "def deco(func):\n",
    "    def new_func(val1,val2):\n",
    "        if type(val1) == type(val2):\n",
    "            return func(val1,val2)\n",
    "        else:\n",
    "            return func(str(val1),str(val2))    \n",
    "    \n",
    "    return new_func\n",
    "    \n",
    "@deco\n",
    "def add(val1,val2):\n",
    "    return val1 + val2\n",
    "\n",
    "# add(10,20)\n",
    "# add(\"Python\",\"Java\")\n",
    "print(add(10,\"Python\"))\n"
   ]
  },
  {
   "cell_type": "code",
   "execution_count": null,
   "metadata": {},
   "outputs": [],
   "source": [
    "return new_func\n",
    "    return\n",
    "        return 10Python"
   ]
  },
  {
   "cell_type": "code",
   "execution_count": 52,
   "metadata": {},
   "outputs": [
    {
     "ename": "NameError",
     "evalue": "name 'username' is not defined",
     "output_type": "error",
     "traceback": [
      "\u001b[1;31m---------------------------------------------------------------------------\u001b[0m",
      "\u001b[1;31mNameError\u001b[0m                                 Traceback (most recent call last)",
      "\u001b[1;32m<ipython-input-52-817a3bc6b94b>\u001b[0m in \u001b[0;36m<module>\u001b[1;34m()\u001b[0m\n\u001b[0;32m      9\u001b[0m \u001b[1;33m\u001b[0m\u001b[0m\n\u001b[0;32m     10\u001b[0m \u001b[1;33m\u001b[0m\u001b[0m\n\u001b[1;32m---> 11\u001b[1;33m \u001b[1;33m@\u001b[0m\u001b[0mlogin\u001b[0m\u001b[1;33m\u001b[0m\u001b[0m\n\u001b[0m\u001b[0;32m     12\u001b[0m \u001b[1;32mdef\u001b[0m \u001b[0medit_profile\u001b[0m\u001b[1;33m(\u001b[0m\u001b[0musername\u001b[0m\u001b[1;33m,\u001b[0m\u001b[0mpassword\u001b[0m\u001b[1;33m)\u001b[0m\u001b[1;33m:\u001b[0m\u001b[1;33m\u001b[0m\u001b[0m\n\u001b[0;32m     13\u001b[0m     \u001b[1;32mreturn\u001b[0m \u001b[1;34m\"inside edit profile\"\u001b[0m\u001b[1;33m\u001b[0m\u001b[0m\n",
      "\u001b[1;32m<ipython-input-52-817a3bc6b94b>\u001b[0m in \u001b[0;36mlogin\u001b[1;34m(func)\u001b[0m\n\u001b[0;32m      1\u001b[0m \u001b[1;32mdef\u001b[0m \u001b[0mlogin\u001b[0m\u001b[1;33m(\u001b[0m\u001b[0mfunc\u001b[0m\u001b[1;33m)\u001b[0m\u001b[1;33m:\u001b[0m\u001b[1;33m\u001b[0m\u001b[0m\n\u001b[0;32m      2\u001b[0m \u001b[1;31m#     def check_access(username,password):\u001b[0m\u001b[1;33m\u001b[0m\u001b[1;33m\u001b[0m\u001b[0m\n\u001b[1;32m----> 3\u001b[1;33m         \u001b[1;32mif\u001b[0m \u001b[0musername\u001b[0m \u001b[1;33m==\u001b[0m\u001b[1;34m\"abc@123\"\u001b[0m \u001b[1;32mand\u001b[0m \u001b[0mpassword\u001b[0m \u001b[1;33m==\u001b[0m\u001b[1;34m\"123456\"\u001b[0m\u001b[1;33m:\u001b[0m\u001b[1;33m\u001b[0m\u001b[0m\n\u001b[0m\u001b[0;32m      4\u001b[0m             \u001b[1;32mreturn\u001b[0m \u001b[0mfunc\u001b[0m\u001b[1;33m(\u001b[0m\u001b[0musername\u001b[0m\u001b[1;33m,\u001b[0m\u001b[0mpassword\u001b[0m\u001b[1;33m)\u001b[0m\u001b[1;33m\u001b[0m\u001b[0m\n\u001b[0;32m      5\u001b[0m         \u001b[1;32melse\u001b[0m\u001b[1;33m:\u001b[0m\u001b[1;33m\u001b[0m\u001b[0m\n",
      "\u001b[1;31mNameError\u001b[0m: name 'username' is not defined"
     ]
    }
   ],
   "source": [
    "def login(func):\n",
    "    def check_access(username,password):\n",
    "        if username ==\"abc@123\" and password ==\"123456\":\n",
    "            return func(username,password)\n",
    "        else:\n",
    "            return \"Invalid username or password\"\n",
    "    \n",
    "    return check_access\n",
    "\n",
    "\n",
    "@login\n",
    "def edit_profile(username,password):\n",
    "    return \"inside edit profile\"\n",
    "\n",
    "@login\n",
    "def change_password(username,password):\n",
    "    return \"Inside change password \"\n",
    "\n",
    "@login\n",
    "def make_payment(username,password):\n",
    "    return \"Inside make payment\"\n",
    "    \n",
    "    \n",
    "print(edit_profile(\"abc@123\",\"123456\"))\n",
    "print(change_password(\"abc@123\",\"12345\"))\n",
    "print(make_payment(\"abc@123\",\"123456\"))"
   ]
  }
 ],
 "metadata": {
  "kernelspec": {
   "display_name": "Python 3",
   "language": "python",
   "name": "python3"
  },
  "language_info": {
   "codemirror_mode": {
    "name": "ipython",
    "version": 3
   },
   "file_extension": ".py",
   "mimetype": "text/x-python",
   "name": "python",
   "nbconvert_exporter": "python",
   "pygments_lexer": "ipython3",
   "version": "3.6.5"
  }
 },
 "nbformat": 4,
 "nbformat_minor": 2
}
