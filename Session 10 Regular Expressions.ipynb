{
 "cells": [
  {
   "cell_type": "code",
   "execution_count": null,
   "metadata": {},
   "outputs": [],
   "source": [
    "Pattern extraction \n",
    "Pattern validation "
   ]
  },
  {
   "cell_type": "code",
   "execution_count": 1,
   "metadata": {},
   "outputs": [],
   "source": [
    "import re"
   ]
  },
  {
   "cell_type": "code",
   "execution_count": 4,
   "metadata": {},
   "outputs": [
    {
     "name": "stdout",
     "output_type": "stream",
     "text": [
      "['ab', 'ab', 'ab', 'ab', 'ab']\n"
     ]
    }
   ],
   "source": [
    "s = \"ababcdabcababaededd\"\n",
    "r = re.compile(\"ab\")\n",
    "l = re.findall(r,s)\n",
    "print(l)"
   ]
  },
  {
   "cell_type": "code",
   "execution_count": 8,
   "metadata": {},
   "outputs": [
    {
     "ename": "SyntaxError",
     "evalue": "invalid syntax (<ipython-input-8-d1e45a3ba13d>, line 1)",
     "output_type": "error",
     "traceback": [
      "\u001b[1;36m  File \u001b[1;32m\"<ipython-input-8-d1e45a3ba13d>\"\u001b[1;36m, line \u001b[1;32m1\u001b[0m\n\u001b[1;33m    Meta Characters :\u001b[0m\n\u001b[1;37m                  ^\u001b[0m\n\u001b[1;31mSyntaxError\u001b[0m\u001b[1;31m:\u001b[0m invalid syntax\n"
     ]
    }
   ],
   "source": [
    "Meta Characters :\n",
    "    1 . => match with any char - only single char\n",
    "    2. [a-zA-Z] => all alpha - single char alpha  a or b or c or .....or z\n",
    "    3. [0-9] => all digits - single digit \n",
    "    4. + atleast on occurance should be there   \n",
    "    5. * zero or more occurances\n",
    "    6 ^ start of the the string \n",
    "    7 $ end of the string \n",
    "    8 [a-z]{2,5}\n",
    "    9 [a-z]? "
   ]
  },
  {
   "cell_type": "code",
   "execution_count": 34,
   "metadata": {},
   "outputs": [
    {
     "name": "stdout",
     "output_type": "stream",
     "text": [
      "[]\n"
     ]
    }
   ],
   "source": [
    "s = \"abcddd1234\"\n",
    "r = re.compile(\"^[a-z]{2,5}[0-9]+$\")\n",
    "l = re.findall(r,s)\n",
    "print(l)"
   ]
  },
  {
   "cell_type": "code",
   "execution_count": 44,
   "metadata": {},
   "outputs": [
    {
     "name": "stdout",
     "output_type": "stream",
     "text": [
      "Invalid pattern\n"
     ]
    }
   ],
   "source": [
    "s = \"AAAABCDE1234A\"\n",
    "r = re.compile(\"^[A-Z]{5}[0-9]{4}[A-Z]$\")\n",
    "# l = re.findall(r,s)\n",
    "# print(l)\n",
    "\n",
    "m = re.search(r,s)\n",
    "if m:\n",
    "    print(m.group())\n",
    "else:\n",
    "    print(\"Invalid pattern\")"
   ]
  },
  {
   "cell_type": "code",
   "execution_count": 66,
   "metadata": {},
   "outputs": [
    {
     "name": "stdout",
     "output_type": "stream",
     "text": [
      "+91\n"
     ]
    }
   ],
   "source": [
    "s = \"+916123456789\"\n",
    "# s = \"6123456789\"\n",
    "r = re.compile(\"^(\\+91)?([6-9]{1}\\d{9})$\")\n",
    "m =  re.search(r,s)\n",
    "if m:\n",
    "    print(m.group(1))\n",
    "else:\n",
    "    print(\"Invalid number\")"
   ]
  },
  {
   "cell_type": "code",
   "execution_count": 84,
   "metadata": {},
   "outputs": [
    {
     "name": "stdout",
     "output_type": "stream",
     "text": [
      "12-11-2018\n"
     ]
    }
   ],
   "source": [
    "s = \"12-11-2018\"\n",
    "r = re.compile(\"(?P<day>\\d{2})-(?P<month>[0-9]{2})-(?P<year>[0-9]{4})\")\n",
    "# dd-mm-yyyy\n",
    "m = re.search(r,s)\n",
    "if m:\n",
    "    print(m.group())\n",
    "else:\n",
    "    print(\"Invalid date\")\n",
    "         \n",
    "    \n"
   ]
  },
  {
   "cell_type": "code",
   "execution_count": null,
   "metadata": {},
   "outputs": [],
   "source": [
    "[0-9]"
   ]
  },
  {
   "cell_type": "code",
   "execution_count": null,
   "metadata": {},
   "outputs": [],
   "source": [
    "<a href=\"www.google.com\">Click Here</a>"
   ]
  },
  {
   "cell_type": "code",
   "execution_count": 82,
   "metadata": {},
   "outputs": [
    {
     "name": "stdout",
     "output_type": "stream",
     "text": [
      "['http://www.zekelabs.com/python', 'http://www.github.com/zekelabs']\n",
      "the code repo is <a href= http://www.zekelabs.com/python >http://www.zekelabs.com/python</a> or use <a href= http://www.github.com/zekelabs >http://www.github.com/zekelabs</a>\n"
     ]
    }
   ],
   "source": [
    "s = \"the code repo is http://www.zekelabs.com/python or use http://www.github.com/zekelabs\"\n",
    "r = re.compile(\"http://www\\.[a-z]+\\.com/[a-z]*\")\n",
    "l = re.findall(r,s)\n",
    "print(l)\n",
    "\n",
    "for link in l:\n",
    "    s = s.replace(link,\"<a href= {} >{}</a>\".format(link,link))\n",
    "print(s)\n",
    "# <a href=\"http://www.zekelabs.com/python\">http://www.zekelabs.com/python</a>\n",
    "# <a href = \"http://www.github.com.zekelabs\"> http://www.github.com.zekelabs </a>    "
   ]
  },
  {
   "cell_type": "code",
   "execution_count": null,
   "metadata": {},
   "outputs": [],
   "source": [
    "[0-9] \\d\n",
    "[^0-9] \\D\n",
    "\n",
    "[a-zA-Z0-9]  \\w\n",
    "[^a-zA-Z0-9] \\W\n",
    "\n",
    "\\s\n",
    "\\S\n",
    "\n"
   ]
  },
  {
   "cell_type": "code",
   "execution_count": null,
   "metadata": {},
   "outputs": [],
   "source": [
    "1.E164 phone numbers  (+ 1-3) (3-15)\n",
    "2.Name Email Contact       Name Contact\n",
    "3.Date validation\n",
    "4. ip address validation 0.0.0.0 255.255.255.255\n",
    "    "
   ]
  }
 ],
 "metadata": {
  "kernelspec": {
   "display_name": "Python 3",
   "language": "python",
   "name": "python3"
  },
  "language_info": {
   "codemirror_mode": {
    "name": "ipython",
    "version": 3
   },
   "file_extension": ".py",
   "mimetype": "text/x-python",
   "name": "python",
   "nbconvert_exporter": "python",
   "pygments_lexer": "ipython3",
   "version": "3.6.5"
  }
 },
 "nbformat": 4,
 "nbformat_minor": 2
}
